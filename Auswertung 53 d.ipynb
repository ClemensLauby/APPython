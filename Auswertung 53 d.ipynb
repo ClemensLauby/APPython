{
 "cells": [
  {
   "cell_type": "code",
   "execution_count": 1,
   "metadata": {},
   "outputs": [],
   "source": [
    "import numpy as np \n",
    "import pandas as pd\n",
    "import math \n",
    "import AP1 as ap \n",
    "import matplotlib.pyplot as plt"
   ]
  },
  {
   "cell_type": "code",
   "execution_count": 61,
   "metadata": {},
   "outputs": [
    {
     "name": "stdout",
     "output_type": "stream",
     "text": [
      "0.5025636676083937 3.4781604333325395 0.327434634698286\n"
     ]
    }
   ],
   "source": [
    "R1 = 50.4\n",
    "R2 = 220 \n",
    "RL = 16.4\n",
    "\n",
    "dR1 = np.sqrt((0.008*R1)**2+0.3**2)\n",
    "dR2 = np.sqrt((0.008*R2)**2+3**2)\n",
    "dRL = np.sqrt((0.008*RL)**2+0.3**2)\n",
    "\n",
    "C = 8.98 *10**(-9)\n",
    "L = 962 * 10**(-6)\n",
    "\n",
    "print(dR1, dR2, dRL)"
   ]
  },
  {
   "cell_type": "code",
   "execution_count": 53,
   "metadata": {},
   "outputs": [
    {
     "name": "stdout",
     "output_type": "stream",
     "text": [
      "54149.49706401011 54115.498563980495 53582.64759661537 46554.86411500498\n"
     ]
    }
   ],
   "source": [
    "f0 = 1/(2*math.pi)*np.sqrt((1/(L*C)))\n",
    "fr0 = f0 * np.sqrt(1-0.5*(RL)**2 / (L/C))\n",
    "fr1 = f0 * np.sqrt(1-0.5*(RL +R1)**2 / (L/C))\n",
    "fr2 = f0 * np.sqrt(1-0.5*(RL +R2)**2 / (L/C))\n",
    "print(f0, fr0 ,fr1, fr2)"
   ]
  },
  {
   "cell_type": "code",
   "execution_count": 54,
   "metadata": {},
   "outputs": [
    {
     "name": "stdout",
     "output_type": "stream",
     "text": [
      "54115.498563980495 14.425534641269087\n",
      "53582.64759661537 10.233710966137448\n",
      "46554.86411500498 242.77731556305054\n"
     ]
    }
   ],
   "source": [
    "Klammer01 = -(RL) * dR2/(2*(L/C)*np.sqrt(1-0.5*(RL)**2 / (L/C)))\n",
    "dfr0 = f0 * np.sqrt(Klammer01**2)\n",
    "print(fr0, dfr0)\n",
    "Klammer11 = -(RL +R1) * dR1/(2*(L/C)*np.sqrt(1-0.5*(RL+R1)**2 / (L/C)))\n",
    "Klammer12 = -(RL +R1) * dRL/(2*(L/C)*np.sqrt(1-0.5*(RL+R1)**2 / (L/C)))\n",
    "dfr1 = f0*np.sqrt(Klammer11**2 + Klammer12**2)\n",
    "print(fr1, dfr1)\n",
    "Klammer21 = -(RL +R2) * dR2/(2*(L/C)*np.sqrt(1-0.5*(RL+R2)**2 / (L/C)))\n",
    "Klammer22 = -(RL +R2) * dRL/(2*(L/C)*np.sqrt(1-0.5*(RL+R2)**2 / (L/C)))\n",
    "dfr2 = f0 * np.sqrt(Klammer21**2 + Klammer22**2)\n",
    "print(fr2, dfr2)"
   ]
  },
  {
   "cell_type": "markdown",
   "metadata": {},
   "source": [
    "## Verschiebung zur Resonanzfrequenz"
   ]
  },
  {
   "cell_type": "code",
   "execution_count": 55,
   "metadata": {},
   "outputs": [
    {
     "name": "stdout",
     "output_type": "stream",
     "text": [
      "33.99850002961466 14.425534641269087\n",
      "566.8494673947425 10.233710966137448\n",
      "7594.6329490051285 242.77731556305054\n"
     ]
    }
   ],
   "source": [
    "vf0 = f0 - fr0\n",
    "vf1 = f0 - fr1\n",
    "vf2 = f0 - fr2\n",
    "dvf0 = dfr0\n",
    "dvf1 =dfr1\n",
    "dvf2 = dfr2\n",
    "print(vf0, dvf0)\n",
    "print(vf1 ,dvf1)\n",
    "print(vf2, dvf2)"
   ]
  },
  {
   "cell_type": "code",
   "execution_count": 56,
   "metadata": {},
   "outputs": [
    {
     "name": "stdout",
     "output_type": "stream",
     "text": [
      "54149.49706401011\n"
     ]
    }
   ],
   "source": [
    "print(f0)"
   ]
  },
  {
   "cell_type": "code",
   "execution_count": 57,
   "metadata": {},
   "outputs": [
    {
     "name": "stdout",
     "output_type": "stream",
     "text": [
      "54115.498563980495 14.425534641269087\n"
     ]
    }
   ],
   "source": [
    "print(fr0, dfr0)"
   ]
  },
  {
   "cell_type": "code",
   "execution_count": 58,
   "metadata": {},
   "outputs": [
    {
     "name": "stdout",
     "output_type": "stream",
     "text": [
      "53582.64759661537 10.233710966137448\n"
     ]
    }
   ],
   "source": [
    "print(fr1 , dfr1)"
   ]
  },
  {
   "cell_type": "code",
   "execution_count": 59,
   "metadata": {},
   "outputs": [
    {
     "name": "stdout",
     "output_type": "stream",
     "text": [
      "46554.86411500498 242.77731556305054\n"
     ]
    }
   ],
   "source": [
    "print(fr2, dfr2)"
   ]
  },
  {
   "cell_type": "code",
   "execution_count": null,
   "metadata": {},
   "outputs": [],
   "source": []
  },
  {
   "cell_type": "code",
   "execution_count": null,
   "metadata": {},
   "outputs": [],
   "source": []
  }
 ],
 "metadata": {
  "kernelspec": {
   "display_name": "Python 3",
   "language": "python",
   "name": "python3"
  },
  "language_info": {
   "codemirror_mode": {
    "name": "ipython",
    "version": 3
   },
   "file_extension": ".py",
   "mimetype": "text/x-python",
   "name": "python",
   "nbconvert_exporter": "python",
   "pygments_lexer": "ipython3",
   "version": "3.7.1"
  }
 },
 "nbformat": 4,
 "nbformat_minor": 2
}
