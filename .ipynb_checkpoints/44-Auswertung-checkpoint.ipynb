{
 "cells": [
  {
   "cell_type": "markdown",
   "metadata": {},
   "source": [
    "## Spannung Strom und Widerstandsnetzwerke"
   ]
  },
  {
   "cell_type": "code",
   "execution_count": 1,
   "metadata": {},
   "outputs": [],
   "source": [
    "import math \n",
    "import numpy as np \n",
    "import matplotlib.pylab as plt\n",
    "import AP1 as ap"
   ]
  },
  {
   "cell_type": "markdown",
   "metadata": {},
   "source": [
    "## Kirchoffsche Regeln test\n"
   ]
  },
  {
   "cell_type": "code",
   "execution_count": 2,
   "metadata": {},
   "outputs": [],
   "source": [
    "Strom1 = 201 #gemessene Stromstärke in mA\n",
    "Strom2 = -57.1\n",
    "Strom3 = -142.1\n",
    "dStrom1 = Strom1 * 0.015 + 0.1 #Fehler der Messwerte\n",
    "dStrom2 = Strom2 * 0.015 + 0.1\n",
    "dStrom3 = Strom3 * 0.015 +0.1\n"
   ]
  },
  {
   "cell_type": "code",
   "execution_count": 4,
   "metadata": {},
   "outputs": [
    {
     "name": "stdout",
     "output_type": "stream",
     "text": [
      "die Summe der Ströme ist 1.8000000000000114\n",
      "Der Fehler bzgl der Summe der Ströme ist 0.32699999999999996\n"
     ]
    }
   ],
   "source": [
    "Strom_summe = Strom1 + Strom2 +Strom3\n",
    "dStrom_summe = dStrom1 + dStrom2 +dStrom3\n",
    "print(\"die Summe der Ströme ist\" , Strom_summe)\n",
    "print(\"Der Fehler bzgl der Summe der Ströme ist\", dStrom_summe)"
   ]
  },
  {
   "cell_type": "code",
   "execution_count": 6,
   "metadata": {},
   "outputs": [],
   "source": [
    "spannung1 = 1.66 #gemessene Spannungen in Volt\n",
    "spannung2 = 8.32\n",
    "spannung3 = -9.99\n",
    "dspannung1 = spannung1 *0.005 + 0.01\n",
    "dspannung2 = spannung2 *0.005 + 0.01\n",
    "dspannung3 = spannung3 *0.005 +0.01\n"
   ]
  },
  {
   "cell_type": "code",
   "execution_count": 7,
   "metadata": {},
   "outputs": [
    {
     "name": "stdout",
     "output_type": "stream",
     "text": [
      "Die Summe der Spannungen ist: -0.009999999999999787\n",
      "Der Fehler der Summe der Spannungen ist: 0.029950000000000004\n"
     ]
    }
   ],
   "source": [
    "spannung_summe = spannung1 + spannung2 + spannung3\n",
    "dspannung_summe = dspannung1 + dspannung2 + dspannung3\n",
    "print(\"Die Summe der Spannungen ist:\", spannung_summe)\n",
    "print(\"Der Fehler der Summe der Spannungen ist:\", dspannung_summe)"
   ]
  },
  {
   "cell_type": "markdown",
   "metadata": {},
   "source": [
    "## Widerstandnetzwerke"
   ]
  },
  {
   "cell_type": "code",
   "execution_count": null,
   "metadata": {},
   "outputs": [],
   "source": []
  }
 ],
 "metadata": {
  "kernelspec": {
   "display_name": "Python 3",
   "language": "python",
   "name": "python3"
  },
  "language_info": {
   "codemirror_mode": {
    "name": "ipython",
    "version": 3
   },
   "file_extension": ".py",
   "mimetype": "text/x-python",
   "name": "python",
   "nbconvert_exporter": "python",
   "pygments_lexer": "ipython3",
   "version": "3.7.1"
  }
 },
 "nbformat": 4,
 "nbformat_minor": 2
}
