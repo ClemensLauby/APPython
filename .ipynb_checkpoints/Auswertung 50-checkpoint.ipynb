{
 "cells": [
  {
   "cell_type": "code",
   "execution_count": 184,
   "metadata": {},
   "outputs": [],
   "source": [
    "import math\n",
    "import numpy as np\n",
    "import matplotlib.pyplot as plt\n",
    "import AP1 as ap"
   ]
  },
  {
   "cell_type": "markdown",
   "metadata": {},
   "source": [
    "## Versuchsteil 1"
   ]
  },
  {
   "cell_type": "code",
   "execution_count": 4,
   "metadata": {},
   "outputs": [],
   "source": [
    "divU = np.array([8.0,8.0,8.0,8.0,8.0,8.0,4.2,4.2,4.2])\n",
    "Vdiv = np.array([1,1,1,1,1,1,2,2,2])\n",
    "\n",
    "divt = np.array([4.9,3.9,4.9,4.9,3.9,4.9,5,3.9,4.9])\n",
    "Tdiv = np.array([0.1, 0.5, 0.02, 0.1, 0.5, 0.02, 0.1, 0.5, 0.02])\n",
    "\n",
    "ddiv = 0.1\n",
    "\n",
    "\n",
    "\n"
   ]
  },
  {
   "cell_type": "code",
   "execution_count": 183,
   "metadata": {},
   "outputs": [
    {
     "name": "stdout",
     "output_type": "stream",
     "text": [
      "[4.90e-04 1.95e-03 9.80e-05 4.90e-04 1.95e-03 9.80e-05 5.00e-04 1.95e-03\n",
      " 9.80e-05]\n",
      "[ 2040.81632653   512.82051282 10204.08163265  2040.81632653\n",
      "   512.82051282 10204.08163265  2000.           512.82051282\n",
      " 10204.08163265]\n",
      "[5.65685425 5.65685425 5.65685425]\n",
      "[4.61880215 4.61880215 4.61880215]\n",
      "[8.4 8.4 8.4]\n"
     ]
    }
   ],
   "source": [
    "u0 = divU * Vdiv\n",
    "t0 = divt * Tdiv / 1000\n",
    "f0 = 1 / t0\n",
    "print(t0)\n",
    "print(f0)\n",
    "ueffsinus = u0[:3] / math.sqrt(2)\n",
    "ueffdreieck = u0[3:6] /math.sqrt(3)\n",
    "ueffrechteck = u0[6:] \n",
    "print(ueffsinus)\n",
    "print(ueffdreieck)\n",
    "print(ueffrechteck)\n"
   ]
  },
  {
   "cell_type": "code",
   "execution_count": 25,
   "metadata": {},
   "outputs": [
    {
     "name": "stdout",
     "output_type": "stream",
     "text": [
      "[0.26, 0.26, 0.26, 0.26, 0.26, 0.26, 0.3217203754815663, 0.3217203754815663, 0.3217203754815663]\n",
      "[ 81.63265306  20.51282051 408.16326531  81.63265306  20.51282051\n",
      " 408.16326531  80.          20.51282051 408.16326531]\n"
     ]
    }
   ],
   "source": [
    "du0 = [math.sqrt((0.1 * Vdiv[i])**2 + (0.03 * u0[i])**2)for i in range(len(Vdiv))]\n",
    "print(du0)\n",
    "#dt0 = [math.sqrt((0.1 * Tdiv[i])**2 + (0.03 * t0[i])**2) for i in range(len(Vdiv))]\n",
    "##print(dt0)\n",
    "#df0 = (1/((t0)**2)) * dt0\n",
    "df0 = 0.04 * f0\n",
    "print(df0)\n"
   ]
  },
  {
   "cell_type": "markdown",
   "metadata": {},
   "source": [
    "## Versuchsteil 2"
   ]
  },
  {
   "cell_type": "markdown",
   "metadata": {},
   "source": [
    "### Ohmscher Widerstand"
   ]
  },
  {
   "cell_type": "code",
   "execution_count": 48,
   "metadata": {},
   "outputs": [],
   "source": [
    "spannungr0 = np.array([6.2, 6.2, 6.2])/2\n",
    "dspannungr0 = 0.04* spannungr0\n",
    "spannungm0 = np.array([4.6*0.05, 4.6*0.05, 4.6*0.05])/2\n",
    "dspannungm0 = 0.04* spannungm0\n",
    "rm = 10.008 #Widerstand des Widerstandes\n"
   ]
  },
  {
   "cell_type": "markdown",
   "metadata": {},
   "source": [
    "$ I = \\frac{U_m}{R_m}$"
   ]
  },
  {
   "cell_type": "code",
   "execution_count": 49,
   "metadata": {},
   "outputs": [],
   "source": [
    "iwiderstand = spannungm0 / rm\n",
    "diwiderstand = 1/rm * dspannungm0\n"
   ]
  },
  {
   "cell_type": "markdown",
   "metadata": {},
   "source": [
    "$ R_x = \\frac{U_0}{I}$                 $ dR_x = \\sqrt{ (\\frac{1}{I} dU_0)^2 + (\\frac{U_0}{I^2} dI)^2}$"
   ]
  },
  {
   "cell_type": "code",
   "execution_count": 50,
   "metadata": {},
   "outputs": [
    {
     "name": "stdout",
     "output_type": "stream",
     "text": [
      "[269.78086957 269.78086957 269.78086957] [15.261110584317496, 15.261110584317496, 15.261110584317496]\n"
     ]
    }
   ],
   "source": [
    "rwiderstand = spannungr0 / iwiderstand\n",
    "Klammer1 = dspannungr0 / iwiderstand \n",
    "Klammer2 = spannungr0  * diwiderstand / iwiderstand**2\n",
    "drwiderstand = [math.sqrt(Klammer1[i]**2 + Klammer2[i]**2) for i in range(3)]\n",
    "print(rwiderstand,drwiderstand)"
   ]
  },
  {
   "cell_type": "code",
   "execution_count": 187,
   "metadata": {},
   "outputs": [
    {
     "name": "stdout",
     "output_type": "stream",
     "text": [
      "[ 6411.41357875 19039.9554763  64114.13578755]\n"
     ]
    },
    {
     "ename": "AttributeError",
     "evalue": "module 'AP1' has no attribute 'Mittelwertfehler'",
     "output_type": "error",
     "traceback": [
      "\u001b[1;31m---------------------------------------------------------------------------\u001b[0m",
      "\u001b[1;31mAttributeError\u001b[0m                            Traceback (most recent call last)",
      "\u001b[1;32m<ipython-input-187-045c648189d6>\u001b[0m in \u001b[0;36m<module>\u001b[1;34m\u001b[0m\n\u001b[0;32m      6\u001b[0m \u001b[1;33m\u001b[0m\u001b[0m\n\u001b[0;32m      7\u001b[0m \u001b[0mprint\u001b[0m\u001b[1;33m(\u001b[0m\u001b[0momegar\u001b[0m\u001b[1;33m)\u001b[0m\u001b[1;33m\u001b[0m\u001b[1;33m\u001b[0m\u001b[0m\n\u001b[1;32m----> 8\u001b[1;33m \u001b[0map\u001b[0m\u001b[1;33m.\u001b[0m\u001b[0mMittelwertfehler\u001b[0m\u001b[1;33m(\u001b[0m\u001b[0mdrwiderstand\u001b[0m\u001b[1;33m)\u001b[0m\u001b[1;33m\u001b[0m\u001b[1;33m\u001b[0m\u001b[0m\n\u001b[0m",
      "\u001b[1;31mAttributeError\u001b[0m: module 'AP1' has no attribute 'Mittelwertfehler'"
     ]
    }
   ],
   "source": [
    "tr = np.array([4.9 *0.2, 3.3 * 0.1,4.9*0.02])/1000\n",
    "dtr = 0.04 * tr\n",
    "\n",
    "omegar = 2* math.pi / tr\n",
    "domegar = dtr / tr**2\n",
    "\n",
    "print(omegar)\n",
    "ap.Mittelwertfehler(drwiderstand)"
   ]
  },
  {
   "cell_type": "markdown",
   "metadata": {},
   "source": [
    "## Widerstand Kondensator"
   ]
  },
  {
   "cell_type": "code",
   "execution_count": 134,
   "metadata": {},
   "outputs": [
    {
     "name": "stdout",
     "output_type": "stream",
     "text": [
      "[3.8 3.7 3.4]\n",
      "[0.00314748 0.00949241 0.02797762]\n",
      "[ 1020.40816327  3030.3030303  10204.08163265]\n"
     ]
    }
   ],
   "source": [
    "spannungc1 = np.array([7.6,7.4,6.8])/2\n",
    "dspannungc1 = 0.04* spannungc1 /2\n",
    "spannungm1 = np.array([6.3*0.01,3.8*0.05,5.6*0.1])/2\n",
    "dspannungm1 = 0.04* spannungm1 /2\n",
    "tc = np.array([4.9*0.2,3.3 *0.1,4.9*0.02])/1000\n",
    "dtc = 0.04 * tc\n",
    "print(spannungc1)\n",
    "print(ikondensator)\n",
    "print(1/tc)"
   ]
  },
  {
   "cell_type": "code",
   "execution_count": 135,
   "metadata": {},
   "outputs": [
    {
     "name": "stdout",
     "output_type": "stream",
     "text": [
      "[1207.31428571  389.78526316  121.52571429]\n"
     ]
    }
   ],
   "source": [
    "ikondensator = spannungm1 / rm\n",
    "dikondensator = dspannungm1 / rm \n",
    "print(spannungc1/ikondensator)"
   ]
  },
  {
   "cell_type": "markdown",
   "metadata": {},
   "source": [
    "$ R_x = \\frac{U_0}{I}$                 $ dR_x = \\sqrt{ (\\frac{1}{I} dU_0)^2 + (\\frac{U_0}{I^2} dI)^2}$"
   ]
  },
  {
   "cell_type": "code",
   "execution_count": 136,
   "metadata": {},
   "outputs": [
    {
     "name": "stdout",
     "output_type": "stream",
     "text": [
      "[1207.31428571  389.78526316  121.52571429] [34.14800473807857, 11.024792111421212, 3.437266266398699]\n"
     ]
    }
   ],
   "source": [
    "cwiderstand = spannungc1 / ikondensator\n",
    "Klammer11 = dspannungc1 / ikondensator\n",
    "Klammer21 = spannungc1 * dikondensator / ikondensator**2\n",
    "dcwiderstand = [math.sqrt(Klammer11[i]**2 + Klammer21[i]**2) for i in range(3)]\n",
    "print(cwiderstand, dcwiderstand)"
   ]
  },
  {
   "cell_type": "code",
   "execution_count": 137,
   "metadata": {},
   "outputs": [
    {
     "name": "stdout",
     "output_type": "stream",
     "text": [
      "[ 6411.41357875 19039.9554763  64114.13578755] [ 256.45654315  761.59821905 2564.5654315 ]\n"
     ]
    }
   ],
   "source": [
    "omegac= 2* math.pi / tc\n",
    "domegac = 2*math.pi *dtc / tc**2\n",
    "print(omegac, domegac)"
   ]
  },
  {
   "cell_type": "markdown",
   "metadata": {},
   "source": [
    "# Berechnung der Phasenverschiebung $\\phi = \\omega \\delta_t$"
   ]
  },
  {
   "cell_type": "code",
   "execution_count": 138,
   "metadata": {},
   "outputs": [
    {
     "name": "stdout",
     "output_type": "stream",
     "text": [
      "[1.53873926 1.52319644 1.53873926] [0.08704423715575572, 0.08616500243701075, 0.08704423715575574]\n",
      "[88.16326531 87.27272727 88.16326531]\n"
     ]
    }
   ],
   "source": [
    "delt = np.array([1.2 *0.2,0.8*0.1,1.2*0.02])/1000\n",
    "ddelt = 0.04 * delt\n",
    "phi = delt * omegac\n",
    "dphi = [math.sqrt((omegac[i]*ddelt[i])**2+(delt[i]*domegac[i])**2) for i in range(3)]\n",
    "alpha = 360 * phi / (2* math.pi)\n",
    "print(phi, dphi)\n",
    "print(alpha)"
   ]
  },
  {
   "cell_type": "markdown",
   "metadata": {},
   "source": [
    "## Kondensatorkapazität"
   ]
  },
  {
   "cell_type": "code",
   "execution_count": 139,
   "metadata": {},
   "outputs": [
    {
     "name": "stdout",
     "output_type": "stream",
     "text": [
      "[1.29189099e-07 1.34743758e-07 1.28344725e-07] [6.328947435231709e-09, 6.6010690687114495e-09, 6.287581765720387e-09]\n"
     ]
    }
   ],
   "source": [
    "Kapazi = 1/(omegac *  cwiderstand)\n",
    "Klammer13 = dcwiderstand/(cwiderstand**2 *omegac)\n",
    "Klammer23 = domegac / (cwiderstand * omegac**2)\n",
    "dKapazi = [math.sqrt(Klammer13[i]**2 + Klammer23[i]**2)for i in range(3)]\n",
    "print(Kapazi,dKapazi)"
   ]
  },
  {
   "cell_type": "markdown",
   "metadata": {},
   "source": [
    "# Widerstand Spule "
   ]
  },
  {
   "cell_type": "code",
   "execution_count": 140,
   "metadata": {},
   "outputs": [],
   "source": [
    "spannungl2 = np.array([4.3,6.2,7.5])/2\n",
    "dspannungl2 = 0.04 * spannungl2/2\n",
    "spannungm2 = np.array([6.3*0.1, 4.4*0.1, 3.4 * 0.05])/2\n",
    "dspannungm2 = 0.04 * spannungm2/2\n",
    "\n",
    "tl = np.array([4.9*0.2,6.5*0.05,1.9*0.05])/1000\n",
    "dtl = tl *0.04"
   ]
  },
  {
   "cell_type": "code",
   "execution_count": 141,
   "metadata": {},
   "outputs": [
    {
     "name": "stdout",
     "output_type": "stream",
     "text": [
      "[0.03147482 0.02198241 0.00849321]\n"
     ]
    }
   ],
   "source": [
    "ispule = spannungm2 / rm\n",
    "dispule = dspannungm2/rm\n",
    "print(ispule)"
   ]
  },
  {
   "cell_type": "code",
   "execution_count": 142,
   "metadata": {},
   "outputs": [
    {
     "name": "stdout",
     "output_type": "stream",
     "text": [
      "[ 68.30857143 141.02181818 441.52941176] [1.9320581628123397, 3.988699357264799, 12.488337646085235]\n"
     ]
    }
   ],
   "source": [
    "widerstandspule = spannungl2 / ispule\n",
    "Klammer14 = dspannungl2 / ispule\n",
    "Klammer24 = (spannungl2 *dispule) / ispule**2\n",
    "dwiderstandspule = [math.sqrt(Klammer14[i]**2 + Klammer24[i]**2) for i in range(3)]\n",
    "print(widerstandspule, dwiderstandspule)"
   ]
  },
  {
   "cell_type": "code",
   "execution_count": 161,
   "metadata": {},
   "outputs": [
    {
     "name": "stdout",
     "output_type": "stream",
     "text": [
      "[44.08163265 66.46153846 90.94736842] [2.493633709980314, 3.7596323627395507, 5.144760075327808]\n"
     ]
    }
   ],
   "source": [
    "deltl = np.array([1.2*0.1,1.2*0.05,1.2*0.02])/1000\n",
    "ddeltl = 0.04 *deltl\n",
    "\n",
    "omegal= 2* math.pi / tl\n",
    "domegal = 2*math.pi *dtl / tl**2\n",
    "\n",
    "phil = deltl * omegal\n",
    "dphil = [math.sqrt((omegal[i]*ddeltl[i])**2+(deltl[i]*domegal[i])**2) for i in range(3)]\n",
    "\n",
    "alpha2 = 360 * phil / (2* math.pi)\n",
    "dalpha2 = [(360 * dphil[i]) / (2* math.pi)for i in range(3)]\n",
    "\n",
    "print(alpha2, dalpha2)\n",
    "\n"
   ]
  },
  {
   "cell_type": "markdown",
   "metadata": {},
   "source": [
    "# Induktivität $L = \\frac{Z}{\\sqrt{\\omega ^2 + (\\frac{\\omega}{\\tan (\\phi)})^2}}$"
   ]
  },
  {
   "cell_type": "code",
   "execution_count": 144,
   "metadata": {},
   "outputs": [
    {
     "name": "stdout",
     "output_type": "stream",
     "text": [
      "[0.007411950674493728, 0.006687452492047542, 0.006674888349612865]\n"
     ]
    }
   ],
   "source": [
    "induktivität = [widerstandspule[i] / math.sqrt(omegal[i]**2 + (omegal[i]/math.tan(phil[i]))**2) for i in range(3)]\n",
    "print(induktivität)"
   ]
  },
  {
   "cell_type": "code",
   "execution_count": 116,
   "metadata": {},
   "outputs": [
    {
     "data": {
      "text/plain": [
       "0.0"
      ]
     },
     "execution_count": 116,
     "metadata": {},
     "output_type": "execute_result"
    }
   ],
   "source": []
  },
  {
   "cell_type": "markdown",
   "metadata": {},
   "source": [
    "# Widerstand spule im wechselstromkreis"
   ]
  },
  {
   "cell_type": "code",
   "execution_count": 146,
   "metadata": {},
   "outputs": [
    {
     "name": "stdout",
     "output_type": "stream",
     "text": [
      "[49.06941789181849, 56.319119691859065, 7.300222906837549]\n"
     ]
    }
   ],
   "source": [
    "echterwiderstandspule = [math.sqrt(widerstandspule[i]**2-(omegal[i]*induktivität[i])**2) for i in range(3)]\n",
    "print(echterwiderstandspule)"
   ]
  },
  {
   "cell_type": "markdown",
   "metadata": {},
   "source": [
    "## Grafische Auftragung der Werte "
   ]
  },
  {
   "cell_type": "code",
   "execution_count": 176,
   "metadata": {},
   "outputs": [
    {
     "data": {
      "text/plain": [
       "<matplotlib.legend.Legend at 0x28f556abb00>"
      ]
     },
     "execution_count": 176,
     "metadata": {},
     "output_type": "execute_result"
    },
    {
     "data": {
      "image/png": "[encoded data removed]",
      "text/plain": [
       "<Figure size 720x360 with 1 Axes>"
      ]
     },
     "metadata": {
      "needs_background": "light"
     },
     "output_type": "display_data"
    }
   ],
   "source": [
    "plt.figure(figsize=(10,5))\n",
    "plt.title(r\"Doppelllogarithmische Auftragung der Impedanz gegenüber der Frequenz\", fontsize=15)\n",
    "plt.ylabel('Impendanz der Bauteile [V/A]')\n",
    "plt.xlabel('Frequenz [Hz]')\n",
    "plt.yscale('log')\n",
    "plt.xscale('log')\n",
    "plt.grid()\n",
    "plt.plot(1/tr, rwiderstand,'x', label='Widerstand')\n",
    "plt.plot(1/tc, cwiderstand, 'x', label='Kondensator')\n",
    "plt.plot(1/tl, widerstandspule ,'x', label= 'Spule')\n",
    "plt.legend()"
   ]
  },
  {
   "cell_type": "code",
   "execution_count": 174,
   "metadata": {},
   "outputs": [
    {
     "data": {
      "text/plain": [
       "<matplotlib.legend.Legend at 0x28f55481f98>"
      ]
     },
     "execution_count": 174,
     "metadata": {},
     "output_type": "execute_result"
    },
    {
     "data": {
      "image/png": "[encoded data removed]",
      "text/plain": [
       "<Figure size 720x360 with 1 Axes>"
      ]
     },
     "metadata": {
      "needs_background": "light"
     },
     "output_type": "display_data"
    }
   ],
   "source": [
    "plt.figure(figsize=(10,5))\n",
    "plt.title(r\"Verlauf der Phase in lin-log-Darsetllung ueber der Frequenz\", fontsize=15)\n",
    "plt.ylabel('Phasenverschiebung [grad]')\n",
    "plt.xlabel('Frequenz [Hz]')\n",
    "plt.xscale('log')\n",
    "plt.grid()\n",
    "plt.plot(1/tr, [0,0,0],'x', label='Widerstand')\n",
    "plt.plot(1/tc, alpha, 'x', label='Kondensator')\n",
    "plt.plot(1/tl, -alpha2 ,'x', label= 'Spule')\n",
    "plt.legend()"
   ]
  },
  {
   "cell_type": "code",
   "execution_count": null,
   "metadata": {},
   "outputs": [],
   "source": []
  }
 ],
 "metadata": {
  "kernelspec": {
   "display_name": "Python 3",
   "language": "python",
   "name": "python3"
  },
  "language_info": {
   "codemirror_mode": {
    "name": "ipython",
    "version": 3
   },
   "file_extension": ".py",
   "mimetype": "text/x-python",
   "name": "python",
   "nbconvert_exporter": "python",
   "pygments_lexer": "ipython3",
   "version": "3.7.1"
  }
 },
 "nbformat": 4,
 "nbformat_minor": 2
}
