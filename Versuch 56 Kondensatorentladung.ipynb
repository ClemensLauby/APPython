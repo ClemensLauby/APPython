{
 "cells": [
  {
   "cell_type": "code",
   "execution_count": 22,
   "metadata": {},
   "outputs": [],
   "source": [
    "import numpy as np\n",
    "import matplotlib.pyplot as plt\n",
    "import pandas as pd\n",
    "import AP1 as ap\n",
    "pd.options.display.precision = 0"
   ]
  },
  {
   "cell_type": "code",
   "execution_count": 44,
   "metadata": {},
   "outputs": [
    {
     "name": "stdout",
     "output_type": "stream",
     "text": [
      "[40.  35.  29.5 25.  22.  20.  15.5 15.  11.  10.   7.5  5.   3.   1.5\n",
      "  0.5]\n",
      "[1.3        1.16297033 1.01647676 0.90138782 0.82800966 0.78102497\n",
      " 0.68280671 0.6726812  0.59908263 0.58309519 0.5482928  0.52201533\n",
      " 0.50803543 0.50202092 0.50022495]\n",
      "0 40.0 1.3\n",
      "1 35.0 1.1629703349613008\n",
      "2 29.5 1.0164767582192915\n",
      "3 25.0 0.9013878188659973\n",
      "4 22.0 0.828009661779378\n",
      "5 20.0 0.7810249675906654\n",
      "6 15.5 0.6828067076413353\n",
      "7 15.0 0.6726812023536854\n",
      "8 11.0 0.5990826320300063\n",
      "9 10.0 0.58309518948453\n",
      "10 7.5 0.5482928049865327\n",
      "11 5.0 0.5220153254455275\n",
      "12 3.0 0.5080354318352215\n",
      "13 1.5 0.5020209158989295\n",
      "14 0.5 0.5002249493977684\n"
     ]
    }
   ],
   "source": [
    "u_c = np.array( [ 8, 7, 5.9, 5, 4.4, 4, 3.1, 3, 2.2, 2, 1.5, 1, 0.6, 0.3, 0.1]) * 5\n",
    "t_c = np.array( [ 0, 0.4, 1, 1.6, 2, 2.3, 3, 3.1, 4, 4.3, 5, 6, 7, 8, 8.8]) * 2 *10**(-6)\n",
    "\n",
    "u_r = np.array( [ 8, 7, 6.2, 6.0, 5, 4.8, 4, 3.7, 3, 2.4, 2, 1.8, 1.5, 1.3, 1.0, 0.8]) *5\n",
    "t_r = np.array( [ 0, 0.6, 1, 1.2, 1.8, 2, 2.8, 3, 4, 5, 5.7, 6, 7, 8, 9, 10]) *2 * 10**(-6)\n",
    "\n",
    "du_c = np.sqrt((u_c * 0.03)**2 + (0.5)**2)\n",
    "du_r = np.sqrt((u_r * 0.03)**2 + (0.5)**2)\n",
    "\n",
    "dt_c = np.sqrt((t_c * 0.03)**2 + (0.2*10**(-6))**2)\n",
    "dt_r = np.sqrt((t_r * 0.03)**2 + (0.2*10**(-6))**2)\n",
    "print(u_c)\n",
    "print(du_c)\n",
    "for i in range(len(u_c)):\n",
    "    print(i, u_c[i], du_c[i] )\n",
    "data = pd.DataFrame(data=[u_c, du_c, t_c, dt_c, u_r, du_r, t_r, dt_r],index=['U_c','dU_c','t_c','dt_c', 'u_r','du_r','t_r','dt_r']).T"
   ]
  },
  {
   "cell_type": "code",
   "execution_count": 41,
   "metadata": {},
   "outputs": [
    {
     "data": {
      "text/html": [
       "<div>\n",
       "<style scoped>\n",
       "    .dataframe tbody tr th:only-of-type {\n",
       "        vertical-align: middle;\n",
       "    }\n",
       "\n",
       "    .dataframe tbody tr th {\n",
       "        vertical-align: top;\n",
       "    }\n",
       "\n",
       "    .dataframe thead th {\n",
       "        text-align: right;\n",
       "    }\n",
       "</style>\n",
       "<table border=\"1\" class=\"dataframe\">\n",
       "  <thead>\n",
       "    <tr style=\"text-align: right;\">\n",
       "      <th></th>\n",
       "      <th>U_c</th>\n",
       "      <th>dU_c</th>\n",
       "      <th>t_c</th>\n",
       "      <th>dt_c</th>\n",
       "      <th>u_r</th>\n",
       "      <th>du_r</th>\n",
       "      <th>t_r</th>\n",
       "      <th>dt_r</th>\n",
       "    </tr>\n",
       "  </thead>\n",
       "  <tbody>\n",
       "    <tr>\n",
       "      <th>0</th>\n",
       "      <td>4e+01</td>\n",
       "      <td>1e+00</td>\n",
       "      <td>0e+00</td>\n",
       "      <td>2e-07</td>\n",
       "      <td>40</td>\n",
       "      <td>1e+00</td>\n",
       "      <td>0e+00</td>\n",
       "      <td>2e-07</td>\n",
       "    </tr>\n",
       "    <tr>\n",
       "      <th>1</th>\n",
       "      <td>4e+01</td>\n",
       "      <td>1e+00</td>\n",
       "      <td>8e-07</td>\n",
       "      <td>2e-07</td>\n",
       "      <td>35</td>\n",
       "      <td>1e+00</td>\n",
       "      <td>1e-06</td>\n",
       "      <td>2e-07</td>\n",
       "    </tr>\n",
       "    <tr>\n",
       "      <th>2</th>\n",
       "      <td>3e+01</td>\n",
       "      <td>1e+00</td>\n",
       "      <td>2e-06</td>\n",
       "      <td>2e-07</td>\n",
       "      <td>31</td>\n",
       "      <td>1e+00</td>\n",
       "      <td>2e-06</td>\n",
       "      <td>2e-07</td>\n",
       "    </tr>\n",
       "    <tr>\n",
       "      <th>3</th>\n",
       "      <td>2e+01</td>\n",
       "      <td>9e-01</td>\n",
       "      <td>3e-06</td>\n",
       "      <td>2e-07</td>\n",
       "      <td>30</td>\n",
       "      <td>1e+00</td>\n",
       "      <td>2e-06</td>\n",
       "      <td>2e-07</td>\n",
       "    </tr>\n",
       "    <tr>\n",
       "      <th>4</th>\n",
       "      <td>2e+01</td>\n",
       "      <td>8e-01</td>\n",
       "      <td>4e-06</td>\n",
       "      <td>2e-07</td>\n",
       "      <td>25</td>\n",
       "      <td>9e-01</td>\n",
       "      <td>4e-06</td>\n",
       "      <td>2e-07</td>\n",
       "    </tr>\n",
       "    <tr>\n",
       "      <th>5</th>\n",
       "      <td>2e+01</td>\n",
       "      <td>8e-01</td>\n",
       "      <td>5e-06</td>\n",
       "      <td>2e-07</td>\n",
       "      <td>24</td>\n",
       "      <td>9e-01</td>\n",
       "      <td>4e-06</td>\n",
       "      <td>2e-07</td>\n",
       "    </tr>\n",
       "    <tr>\n",
       "      <th>6</th>\n",
       "      <td>2e+01</td>\n",
       "      <td>7e-01</td>\n",
       "      <td>6e-06</td>\n",
       "      <td>3e-07</td>\n",
       "      <td>20</td>\n",
       "      <td>8e-01</td>\n",
       "      <td>6e-06</td>\n",
       "      <td>3e-07</td>\n",
       "    </tr>\n",
       "    <tr>\n",
       "      <th>7</th>\n",
       "      <td>2e+01</td>\n",
       "      <td>7e-01</td>\n",
       "      <td>6e-06</td>\n",
       "      <td>3e-07</td>\n",
       "      <td>18</td>\n",
       "      <td>7e-01</td>\n",
       "      <td>6e-06</td>\n",
       "      <td>3e-07</td>\n",
       "    </tr>\n",
       "    <tr>\n",
       "      <th>8</th>\n",
       "      <td>1e+01</td>\n",
       "      <td>6e-01</td>\n",
       "      <td>8e-06</td>\n",
       "      <td>3e-07</td>\n",
       "      <td>15</td>\n",
       "      <td>7e-01</td>\n",
       "      <td>8e-06</td>\n",
       "      <td>3e-07</td>\n",
       "    </tr>\n",
       "    <tr>\n",
       "      <th>9</th>\n",
       "      <td>1e+01</td>\n",
       "      <td>6e-01</td>\n",
       "      <td>9e-06</td>\n",
       "      <td>3e-07</td>\n",
       "      <td>12</td>\n",
       "      <td>6e-01</td>\n",
       "      <td>1e-05</td>\n",
       "      <td>4e-07</td>\n",
       "    </tr>\n",
       "    <tr>\n",
       "      <th>10</th>\n",
       "      <td>8e+00</td>\n",
       "      <td>5e-01</td>\n",
       "      <td>1e-05</td>\n",
       "      <td>4e-07</td>\n",
       "      <td>10</td>\n",
       "      <td>6e-01</td>\n",
       "      <td>1e-05</td>\n",
       "      <td>4e-07</td>\n",
       "    </tr>\n",
       "    <tr>\n",
       "      <th>11</th>\n",
       "      <td>5e+00</td>\n",
       "      <td>5e-01</td>\n",
       "      <td>1e-05</td>\n",
       "      <td>4e-07</td>\n",
       "      <td>9</td>\n",
       "      <td>6e-01</td>\n",
       "      <td>1e-05</td>\n",
       "      <td>4e-07</td>\n",
       "    </tr>\n",
       "    <tr>\n",
       "      <th>12</th>\n",
       "      <td>3e+00</td>\n",
       "      <td>5e-01</td>\n",
       "      <td>1e-05</td>\n",
       "      <td>5e-07</td>\n",
       "      <td>8</td>\n",
       "      <td>5e-01</td>\n",
       "      <td>1e-05</td>\n",
       "      <td>5e-07</td>\n",
       "    </tr>\n",
       "    <tr>\n",
       "      <th>13</th>\n",
       "      <td>2e+00</td>\n",
       "      <td>5e-01</td>\n",
       "      <td>2e-05</td>\n",
       "      <td>5e-07</td>\n",
       "      <td>6</td>\n",
       "      <td>5e-01</td>\n",
       "      <td>2e-05</td>\n",
       "      <td>5e-07</td>\n",
       "    </tr>\n",
       "    <tr>\n",
       "      <th>14</th>\n",
       "      <td>5e-01</td>\n",
       "      <td>5e-01</td>\n",
       "      <td>2e-05</td>\n",
       "      <td>6e-07</td>\n",
       "      <td>5</td>\n",
       "      <td>5e-01</td>\n",
       "      <td>2e-05</td>\n",
       "      <td>6e-07</td>\n",
       "    </tr>\n",
       "    <tr>\n",
       "      <th>15</th>\n",
       "      <td>NaN</td>\n",
       "      <td>NaN</td>\n",
       "      <td>NaN</td>\n",
       "      <td>NaN</td>\n",
       "      <td>4</td>\n",
       "      <td>5e-01</td>\n",
       "      <td>2e-05</td>\n",
       "      <td>6e-07</td>\n",
       "    </tr>\n",
       "  </tbody>\n",
       "</table>\n",
       "</div>"
      ],
      "text/plain": [
       "      U_c   dU_c    t_c   dt_c  u_r   du_r    t_r   dt_r\n",
       "0   4e+01  1e+00  0e+00  2e-07   40  1e+00  0e+00  2e-07\n",
       "1   4e+01  1e+00  8e-07  2e-07   35  1e+00  1e-06  2e-07\n",
       "2   3e+01  1e+00  2e-06  2e-07   31  1e+00  2e-06  2e-07\n",
       "3   2e+01  9e-01  3e-06  2e-07   30  1e+00  2e-06  2e-07\n",
       "4   2e+01  8e-01  4e-06  2e-07   25  9e-01  4e-06  2e-07\n",
       "5   2e+01  8e-01  5e-06  2e-07   24  9e-01  4e-06  2e-07\n",
       "6   2e+01  7e-01  6e-06  3e-07   20  8e-01  6e-06  3e-07\n",
       "7   2e+01  7e-01  6e-06  3e-07   18  7e-01  6e-06  3e-07\n",
       "8   1e+01  6e-01  8e-06  3e-07   15  7e-01  8e-06  3e-07\n",
       "9   1e+01  6e-01  9e-06  3e-07   12  6e-01  1e-05  4e-07\n",
       "10  8e+00  5e-01  1e-05  4e-07   10  6e-01  1e-05  4e-07\n",
       "11  5e+00  5e-01  1e-05  4e-07    9  6e-01  1e-05  4e-07\n",
       "12  3e+00  5e-01  1e-05  5e-07    8  5e-01  1e-05  5e-07\n",
       "13  2e+00  5e-01  2e-05  5e-07    6  5e-01  2e-05  5e-07\n",
       "14  5e-01  5e-01  2e-05  6e-07    5  5e-01  2e-05  6e-07\n",
       "15    NaN    NaN    NaN    NaN    4  5e-01  2e-05  6e-07"
      ]
     },
     "execution_count": 41,
     "metadata": {},
     "output_type": "execute_result"
    }
   ],
   "source": [
    "data"
   ]
  },
  {
   "cell_type": "code",
   "execution_count": 26,
   "metadata": {},
   "outputs": [],
   "source": [
    "logu_c = np.log10(u_c)\n",
    "dlogu_c = du_c / (u_c* np.log(10))\n",
    "\n",
    "logu_r = np.log10(u_r)\n",
    "dlogu_r = du_r / (u_r * np.log(10))\n",
    "#print('log', logu_c)\n",
    "#print('dlog', dlogu_c)\n",
    "#print(len(logu_c))\n",
    "#print(len(t_c))\n",
    "#print(len(dlogu_c))"
   ]
  },
  {
   "cell_type": "code",
   "execution_count": 27,
   "metadata": {},
   "outputs": [
    {
     "name": "stdout",
     "output_type": "stream",
     "text": [
      "1.6077005346057847 0.00900578626101879\n",
      "-0.06911027383127281 0.0021087789445161614\n"
     ]
    }
   ],
   "source": [
    "#a1, b1, da1, db1 = ap.GewichteteRegression(t_c*10**6, logu_c,dt_c*10**6)\n",
    "a1, b1, da1, db1 = ap.GewichteteRegression(t_c[0:10]*10**6, logu_c[0:10],dlogu_c[0:10])\n",
    "def linear(x):\n",
    "    return a1 + b1*x\n",
    "print(a1, da1)\n",
    "print(b1, db1)"
   ]
  },
  {
   "cell_type": "code",
   "execution_count": 28,
   "metadata": {},
   "outputs": [
    {
     "data": {
      "image/png": "[encoded data removed]",
      "text/plain": [
       "<Figure size 1080x576 with 1 Axes>"
      ]
     },
     "metadata": {
      "needs_background": "light"
     },
     "output_type": "display_data"
    }
   ],
   "source": [
    "\n",
    "plt.figure(figsize = (15,8))\n",
    "plt.errorbar(t_c*10**(6), logu_c,dlogu_c,dt_c*10**(6),fmt='x',label='gemessene Werte mit Fehlerbalken')\n",
    "plt.plot(np.linspace(0,20),linear(np.linspace(0,20)),label = 'dazugehörige lineare Regression')\n",
    "plt.xlabel(r't / $\\mu$ s')\n",
    "plt.ylabel(r'$log_{10} (U_C)$ / V ')\n",
    "plt.title('halblogarithmische Auftragung der, am Kondensator, abfallenden Spannung gegenüber der Zeit')\n",
    "plt.legend()\n",
    "plt.savefig('56graph1.png')"
   ]
  },
  {
   "cell_type": "code",
   "execution_count": 29,
   "metadata": {},
   "outputs": [],
   "source": [
    "a2, b2, da2, db2 = ap.GewichteteRegression(t_r*10**6, logu_r,dlogu_r)\n",
    "def linear2(x):\n",
    "    return a2 + b2*x"
   ]
  },
  {
   "cell_type": "code",
   "execution_count": 30,
   "metadata": {},
   "outputs": [
    {
     "data": {
      "image/png": "[encoded data removed]",
      "text/plain": [
       "<Figure size 1080x576 with 1 Axes>"
      ]
     },
     "metadata": {
      "needs_background": "light"
     },
     "output_type": "display_data"
    }
   ],
   "source": [
    "plt.figure(figsize = (15,8))\n",
    "plt.errorbar(t_r*10**6,logu_r, dlogu_r, dt_r*10**6,'x', label = 'gemessene Werte mit Fehlerbalken')\n",
    "plt.plot(np.linspace(0,20),linear2(np.linspace(0,20)), label = ' gewichtete Lineare Regression')\n",
    "plt.xlabel(r't / $\\mu$ s')\n",
    "plt.ylabel(r'$log_{10} (U_R)$ / V ')\n",
    "plt.title('halblogarithmische Auftragung der, am Widerstand abfallenden Spannung, gegenüber der Zeit')\n",
    "plt.legend()\n",
    "plt.savefig('56graph2.png')"
   ]
  },
  {
   "cell_type": "code",
   "execution_count": 37,
   "metadata": {},
   "outputs": [
    {
     "name": "stdout",
     "output_type": "stream",
     "text": [
      "6.284079888954671e-06 1.9174768989974075e-07\n",
      "8.427792430607992e-06 1.813198223435466e-07\n",
      "5.841700561620378e-06 1.256813236370595e-07\n",
      "4.355792257442384e-06 1.32909370632888e-07\n",
      "-0.05153122665028916 0.0011086690777339662\n"
     ]
    }
   ],
   "source": [
    "tau1 = - np.log10(np.e)/(b1 * 10**6)\n",
    "tau2 = - np.log10(np.e)/(b2 * 10**6)\n",
    "\n",
    "dtau1 =  np.log10(np.e) * db1 /(b1)**2 /10**6\n",
    "dtau2 =  np.log10(np.e) * db2 / (b2)**2 /10**6\n",
    "print(tau1, dtau1)\n",
    "print(tau2, dtau2)\n",
    "print(tau2 *np.log(2),dtau2 *np.log(2))\n",
    "print(tau1 *np.log(2),dtau1 *np.log(2))\n",
    "print(b2, db2)"
   ]
  },
  {
   "cell_type": "code",
   "execution_count": 32,
   "metadata": {},
   "outputs": [
    {
     "name": "stdout",
     "output_type": "stream",
     "text": [
      "9241.293954345105 281.98189691138344\n",
      "12393.812397952928 266.6467975640391\n"
     ]
    }
   ],
   "source": [
    "C = 680 * 10 ** (-12)\n",
    "R = 10000\n",
    "\n",
    "R1 = tau1 / C\n",
    "R2 = tau2 / C\n",
    "\n",
    "dR1 = dtau1 / C\n",
    "dR2 = dtau2 / C\n",
    "\n",
    "print(R1, dR1)\n",
    "print(R2, dR2)"
   ]
  },
  {
   "cell_type": "markdown",
   "metadata": {},
   "source": [
    "# Direkte Messung der Halbwertszeit"
   ]
  },
  {
   "cell_type": "code",
   "execution_count": 33,
   "metadata": {},
   "outputs": [
    {
     "name": "stdout",
     "output_type": "stream",
     "text": [
      "6.284079888954671e-06 1.9174768989974075e-07\n",
      "8.427792430607992e-06 1.813198223435466e-07\n"
     ]
    }
   ],
   "source": [
    "thalb = np.array([ 6.1, 5.7*0.5, 3.4*0.5, 5.8, 3.7, 3.9*0.5])\n",
    "Rliste = np.array([10,5.6, 3.3, 10, 5.6, 3.3]) *1000\n",
    "\n",
    "dthalb = np.sqrt((0.03 *thalb)**2 + 0.1 **2)\n",
    "dRliste = 0.01 * Rliste\n",
    "\n",
    "tau = thalb / np.log(2) /10**6\n",
    "dtau = dthalb/np.log(2) /10**6\n",
    "r_rechnen = tau/C\n",
    "dr_rechnen = dtau/C\n",
    "print(tau1, dtau1)\n",
    "print(tau2, dtau2)"
   ]
  },
  {
   "cell_type": "code",
   "execution_count": 34,
   "metadata": {},
   "outputs": [
    {
     "data": {
      "text/html": [
       "<div>\n",
       "<style scoped>\n",
       "    .dataframe tbody tr th:only-of-type {\n",
       "        vertical-align: middle;\n",
       "    }\n",
       "\n",
       "    .dataframe tbody tr th {\n",
       "        vertical-align: top;\n",
       "    }\n",
       "\n",
       "    .dataframe thead th {\n",
       "        text-align: right;\n",
       "    }\n",
       "</style>\n",
       "<table border=\"1\" class=\"dataframe\">\n",
       "  <thead>\n",
       "    <tr style=\"text-align: right;\">\n",
       "      <th></th>\n",
       "      <th>r rechnung</th>\n",
       "      <th>dr rechnung</th>\n",
       "      <th>R abgelesen</th>\n",
       "      <th>dR abgelesen</th>\n",
       "    </tr>\n",
       "  </thead>\n",
       "  <tbody>\n",
       "    <tr>\n",
       "      <th>0</th>\n",
       "      <td>12942</td>\n",
       "      <td>442</td>\n",
       "      <td>100</td>\n",
       "      <td>100</td>\n",
       "    </tr>\n",
       "    <tr>\n",
       "      <th>1</th>\n",
       "      <td>6047</td>\n",
       "      <td>279</td>\n",
       "      <td>56</td>\n",
       "      <td>56</td>\n",
       "    </tr>\n",
       "    <tr>\n",
       "      <th>2</th>\n",
       "      <td>3607</td>\n",
       "      <td>238</td>\n",
       "      <td>33</td>\n",
       "      <td>33</td>\n",
       "    </tr>\n",
       "    <tr>\n",
       "      <th>3</th>\n",
       "      <td>12305</td>\n",
       "      <td>426</td>\n",
       "      <td>100</td>\n",
       "      <td>100</td>\n",
       "    </tr>\n",
       "    <tr>\n",
       "      <th>4</th>\n",
       "      <td>7850</td>\n",
       "      <td>317</td>\n",
       "      <td>56</td>\n",
       "      <td>56</td>\n",
       "    </tr>\n",
       "    <tr>\n",
       "      <th>5</th>\n",
       "      <td>4137</td>\n",
       "      <td>246</td>\n",
       "      <td>33</td>\n",
       "      <td>33</td>\n",
       "    </tr>\n",
       "  </tbody>\n",
       "</table>\n",
       "</div>"
      ],
      "text/plain": [
       "   r rechnung  dr rechnung  R abgelesen  dR abgelesen\n",
       "0       12942          442          100           100\n",
       "1        6047          279           56            56\n",
       "2        3607          238           33            33\n",
       "3       12305          426          100           100\n",
       "4        7850          317           56            56\n",
       "5        4137          246           33            33"
      ]
     },
     "execution_count": 34,
     "metadata": {},
     "output_type": "execute_result"
    }
   ],
   "source": [
    "df = pd.DataFrame(data=[r_rechnen, dr_rechnen, Rliste, dRliste],\n",
    "                  index=['r rechnung', 'dr rechnung', 'R abgelesen', 'dR abgelesen']).T\n",
    "df"
   ]
  },
  {
   "cell_type": "code",
   "execution_count": 35,
   "metadata": {},
   "outputs": [
    {
     "name": "stdout",
     "output_type": "stream",
     "text": [
      "\\begin{tabular}{rrrr}\n",
      "\\toprule\n",
      " r rechnung &  dr rechnung &  R abgelesen &  dR abgelesen \\\\\n",
      "\\midrule\n",
      "      12942 &          442 &          100 &           100 \\\\\n",
      "       6047 &          279 &           56 &            56 \\\\\n",
      "       3607 &          238 &           33 &            33 \\\\\n",
      "      12305 &          426 &          100 &           100 \\\\\n",
      "       7850 &          317 &           56 &            56 \\\\\n",
      "       4137 &          246 &           33 &            33 \\\\\n",
      "\\bottomrule\n",
      "\\end{tabular}\n",
      "\n"
     ]
    }
   ],
   "source": [
    "\n",
    "print(df.to_latex(index=False))"
   ]
  },
  {
   "cell_type": "code",
   "execution_count": 36,
   "metadata": {},
   "outputs": [
    {
     "data": {
      "text/plain": [
       "7.542472332656507"
      ]
     },
     "execution_count": 36,
     "metadata": {},
     "output_type": "execute_result"
    }
   ],
   "source": [
    "ap.TTest(12400,9200,300,300)"
   ]
  },
  {
   "cell_type": "code",
   "execution_count": 4,
   "metadata": {},
   "outputs": [
    {
     "data": {
      "text/plain": [
       "0.1"
      ]
     },
     "execution_count": 4,
     "metadata": {},
     "output_type": "execute_result"
    }
   ],
   "source": [
    "10 * 0.01 "
   ]
  },
  {
   "cell_type": "code",
   "execution_count": 8,
   "metadata": {},
   "outputs": [
    {
     "data": {
      "text/plain": [
       "2.5298221281347057"
      ]
     },
     "execution_count": 8,
     "metadata": {},
     "output_type": "execute_result"
    }
   ],
   "source": [
    "ap.TTest(10,9.2,0.3,0.1)"
   ]
  },
  {
   "cell_type": "code",
   "execution_count": null,
   "metadata": {},
   "outputs": [],
   "source": []
  }
 ],
 "metadata": {
  "kernelspec": {
   "display_name": "Python 3",
   "language": "python",
   "name": "python3"
  },
  "language_info": {
   "codemirror_mode": {
    "name": "ipython",
    "version": 3
   },
   "file_extension": ".py",
   "mimetype": "text/x-python",
   "name": "python",
   "nbconvert_exporter": "python",
   "pygments_lexer": "ipython3",
   "version": "3.7.0"
  }
 },
 "nbformat": 4,
 "nbformat_minor": 2
}
