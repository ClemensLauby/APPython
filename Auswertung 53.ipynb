{
 "cells": [
  {
   "cell_type": "code",
   "execution_count": 2,
   "metadata": {},
   "outputs": [],
   "source": [
    "import numpy as np \n",
    "import math \n",
    "import AP1 as ap\n",
    "import pandas as pd\n",
    "import matplotlib.pylab as plt\n"
   ]
  },
  {
   "cell_type": "markdown",
   "metadata": {},
   "source": [
    "## Aufgabenteil a) : Eingabe der Messwerte"
   ]
  },
  {
   "cell_type": "code",
   "execution_count": 14,
   "metadata": {},
   "outputs": [],
   "source": [
    "frequenz0 = np.array([11.93,45.16,51.94,54.44,55.37,57.18,63.53,82.21,90.31,105.3,121.1,146.2,40.77])\n",
    "tdiff0 = np.array([0,0.5,2,4.8,5.8,7.0,7.3,5.8,5.5,4.8,4.1,3.4,0.5])\n",
    "\n",
    "frequenz1 = np.array([27.53,34.95,39.78,45.63,50.99,54.01,55.80,57.43,62.00,67.68,74.68,86.32,101.6])\n",
    "tdiff1 = np.array([1.1,1.2,1.4,2.0,3.2,4.5,5.0,5.5,6.3,6.2,5.9,5.5,4.6])\n",
    "\n",
    "frequenz2 = np.array([9.947,16.28,26.62,38.49,47.55,58.01,68.32,84.75,103.2,117.9,141.9,170.0,190.7])\n",
    "tdiff2 = np.array([2,2,3,3.5,3.9,4.7,4.7,4.6,4.0,3.6,3.1,2.7,2.4])\n",
    "\n",
    "dfrequenz0 = 0.005 * frequenz0\n",
    "dfrequenz1 = 0.005 * frequenz1\n",
    "dfrequenz2 = 0.005 * frequenz2\n",
    "\n",
    "dtdiff0 =np.sqrt( (0.03 * tdiff0) **2 + 0.2**2 )\n",
    "dtdiff1 =np.sqrt( (0.03 * tdiff1) **2 + 0.2**2 )\n",
    "dtdiff2 =np.sqrt( (0.03 * tdiff2) **2 + 0.2**2 )\n"
   ]
  },
  {
   "cell_type": "code",
   "execution_count": 54,
   "metadata": {},
   "outputs": [
    {
     "name": "stdout",
     "output_type": "stream",
     "text": [
      "    tdiff0   dtdiff0  tdiff1   dtdiff1  tdiff2   dtdiff2\n",
      "0      0.0  0.200000     1.1  0.202704     2.0  0.208806\n",
      "1      0.5  0.200562     1.2  0.203214     2.0  0.208806\n",
      "2      2.0  0.208806     1.4  0.204362     3.0  0.219317\n",
      "3      4.8  0.246447     2.0  0.208806     3.5  0.225887\n",
      "4      5.8  0.265096     3.2  0.221847     3.9  0.231709\n",
      "5      7.0  0.290000     4.5  0.241299     4.7  0.244706\n",
      "6      7.3  0.296582     5.0  0.250000     4.7  0.244706\n",
      "7      5.8  0.265096     5.5  0.259278     4.6  0.242990\n",
      "8      5.5  0.259278     6.3  0.275174     4.0  0.233238\n",
      "9      4.8  0.246447     6.2  0.273123     3.6  0.227297\n",
      "10     4.1  0.234796     5.9  0.267075     3.1  0.220565\n",
      "11     3.4  0.224508     5.5  0.259278     2.7  0.215780\n",
      "12     0.5  0.200562     4.6  0.242990     2.4  0.212565\n"
     ]
    }
   ],
   "source": [
    "frequenzen = pd.DataFrame(data=[frequenz0, dfrequenz0, frequenz1, dfrequenz1, frequenz2, dfrequenz2],\n",
    "                          index = ['Frequenz0','dFrequenz0','Frequenz1', 'dFrequenz1', 'Frequenz2','dFrequenz2']).T\n",
    "tdiff = pd.DataFrame(data=[tdiff0, dtdiff0, tdiff1, dtdiff1, tdiff2, dtdiff2],\n",
    "                    index = ['tdiff0','dtdiff0','tdiff1', 'dtdiff1', 'tdiff2', 'dtdiff2']).T\n",
    "print(tdiff)"
   ]
  },
  {
   "cell_type": "code",
   "execution_count": 66,
   "metadata": {},
   "outputs": [
    {
     "data": {
      "text/html": [
       "<div>\n",
       "<style scoped>\n",
       "    .dataframe tbody tr th:only-of-type {\n",
       "        vertical-align: middle;\n",
       "    }\n",
       "\n",
       "    .dataframe tbody tr th {\n",
       "        vertical-align: top;\n",
       "    }\n",
       "\n",
       "    .dataframe thead th {\n",
       "        text-align: right;\n",
       "    }\n",
       "</style>\n",
       "<table border=\"1\" class=\"dataframe\">\n",
       "  <thead>\n",
       "    <tr style=\"text-align: right;\">\n",
       "      <th></th>\n",
       "      <th>Frequenz0</th>\n",
       "      <th>dFrequenz0</th>\n",
       "      <th>Frequenz1</th>\n",
       "      <th>dFrequenz1</th>\n",
       "      <th>Frequenz2</th>\n",
       "      <th>dFrequenz2</th>\n",
       "      <th>tdiff0</th>\n",
       "      <th>dtdiff0</th>\n",
       "      <th>tdiff1</th>\n",
       "      <th>dtdiff1</th>\n",
       "      <th>tdiff2</th>\n",
       "      <th>dtdiff2</th>\n",
       "    </tr>\n",
       "  </thead>\n",
       "  <tbody>\n",
       "    <tr>\n",
       "      <th>0</th>\n",
       "      <td>11.93</td>\n",
       "      <td>0.05965</td>\n",
       "      <td>27.53</td>\n",
       "      <td>0.13765</td>\n",
       "      <td>9.947</td>\n",
       "      <td>0.049735</td>\n",
       "      <td>0.0</td>\n",
       "      <td>0.200000</td>\n",
       "      <td>1.1</td>\n",
       "      <td>0.202704</td>\n",
       "      <td>2.0</td>\n",
       "      <td>0.208806</td>\n",
       "    </tr>\n",
       "    <tr>\n",
       "      <th>1</th>\n",
       "      <td>45.16</td>\n",
       "      <td>0.22580</td>\n",
       "      <td>34.95</td>\n",
       "      <td>0.17475</td>\n",
       "      <td>16.280</td>\n",
       "      <td>0.081400</td>\n",
       "      <td>0.5</td>\n",
       "      <td>0.200562</td>\n",
       "      <td>1.2</td>\n",
       "      <td>0.203214</td>\n",
       "      <td>2.0</td>\n",
       "      <td>0.208806</td>\n",
       "    </tr>\n",
       "    <tr>\n",
       "      <th>2</th>\n",
       "      <td>51.94</td>\n",
       "      <td>0.25970</td>\n",
       "      <td>39.78</td>\n",
       "      <td>0.19890</td>\n",
       "      <td>26.620</td>\n",
       "      <td>0.133100</td>\n",
       "      <td>2.0</td>\n",
       "      <td>0.208806</td>\n",
       "      <td>1.4</td>\n",
       "      <td>0.204362</td>\n",
       "      <td>3.0</td>\n",
       "      <td>0.219317</td>\n",
       "    </tr>\n",
       "    <tr>\n",
       "      <th>3</th>\n",
       "      <td>54.44</td>\n",
       "      <td>0.27220</td>\n",
       "      <td>45.63</td>\n",
       "      <td>0.22815</td>\n",
       "      <td>38.490</td>\n",
       "      <td>0.192450</td>\n",
       "      <td>4.8</td>\n",
       "      <td>0.246447</td>\n",
       "      <td>2.0</td>\n",
       "      <td>0.208806</td>\n",
       "      <td>3.5</td>\n",
       "      <td>0.225887</td>\n",
       "    </tr>\n",
       "    <tr>\n",
       "      <th>4</th>\n",
       "      <td>55.37</td>\n",
       "      <td>0.27685</td>\n",
       "      <td>50.99</td>\n",
       "      <td>0.25495</td>\n",
       "      <td>47.550</td>\n",
       "      <td>0.237750</td>\n",
       "      <td>5.8</td>\n",
       "      <td>0.265096</td>\n",
       "      <td>3.2</td>\n",
       "      <td>0.221847</td>\n",
       "      <td>3.9</td>\n",
       "      <td>0.231709</td>\n",
       "    </tr>\n",
       "    <tr>\n",
       "      <th>5</th>\n",
       "      <td>57.18</td>\n",
       "      <td>0.28590</td>\n",
       "      <td>54.01</td>\n",
       "      <td>0.27005</td>\n",
       "      <td>58.010</td>\n",
       "      <td>0.290050</td>\n",
       "      <td>7.0</td>\n",
       "      <td>0.290000</td>\n",
       "      <td>4.5</td>\n",
       "      <td>0.241299</td>\n",
       "      <td>4.7</td>\n",
       "      <td>0.244706</td>\n",
       "    </tr>\n",
       "    <tr>\n",
       "      <th>6</th>\n",
       "      <td>63.53</td>\n",
       "      <td>0.31765</td>\n",
       "      <td>55.80</td>\n",
       "      <td>0.27900</td>\n",
       "      <td>68.320</td>\n",
       "      <td>0.341600</td>\n",
       "      <td>7.3</td>\n",
       "      <td>0.296582</td>\n",
       "      <td>5.0</td>\n",
       "      <td>0.250000</td>\n",
       "      <td>4.7</td>\n",
       "      <td>0.244706</td>\n",
       "    </tr>\n",
       "    <tr>\n",
       "      <th>7</th>\n",
       "      <td>82.21</td>\n",
       "      <td>0.41105</td>\n",
       "      <td>57.43</td>\n",
       "      <td>0.28715</td>\n",
       "      <td>84.750</td>\n",
       "      <td>0.423750</td>\n",
       "      <td>5.8</td>\n",
       "      <td>0.265096</td>\n",
       "      <td>5.5</td>\n",
       "      <td>0.259278</td>\n",
       "      <td>4.6</td>\n",
       "      <td>0.242990</td>\n",
       "    </tr>\n",
       "    <tr>\n",
       "      <th>8</th>\n",
       "      <td>90.31</td>\n",
       "      <td>0.45155</td>\n",
       "      <td>62.00</td>\n",
       "      <td>0.31000</td>\n",
       "      <td>103.200</td>\n",
       "      <td>0.516000</td>\n",
       "      <td>5.5</td>\n",
       "      <td>0.259278</td>\n",
       "      <td>6.3</td>\n",
       "      <td>0.275174</td>\n",
       "      <td>4.0</td>\n",
       "      <td>0.233238</td>\n",
       "    </tr>\n",
       "    <tr>\n",
       "      <th>9</th>\n",
       "      <td>105.30</td>\n",
       "      <td>0.52650</td>\n",
       "      <td>67.68</td>\n",
       "      <td>0.33840</td>\n",
       "      <td>117.900</td>\n",
       "      <td>0.589500</td>\n",
       "      <td>4.8</td>\n",
       "      <td>0.246447</td>\n",
       "      <td>6.2</td>\n",
       "      <td>0.273123</td>\n",
       "      <td>3.6</td>\n",
       "      <td>0.227297</td>\n",
       "    </tr>\n",
       "    <tr>\n",
       "      <th>10</th>\n",
       "      <td>121.10</td>\n",
       "      <td>0.60550</td>\n",
       "      <td>74.68</td>\n",
       "      <td>0.37340</td>\n",
       "      <td>141.900</td>\n",
       "      <td>0.709500</td>\n",
       "      <td>4.1</td>\n",
       "      <td>0.234796</td>\n",
       "      <td>5.9</td>\n",
       "      <td>0.267075</td>\n",
       "      <td>3.1</td>\n",
       "      <td>0.220565</td>\n",
       "    </tr>\n",
       "    <tr>\n",
       "      <th>11</th>\n",
       "      <td>146.20</td>\n",
       "      <td>0.73100</td>\n",
       "      <td>86.32</td>\n",
       "      <td>0.43160</td>\n",
       "      <td>170.000</td>\n",
       "      <td>0.850000</td>\n",
       "      <td>3.4</td>\n",
       "      <td>0.224508</td>\n",
       "      <td>5.5</td>\n",
       "      <td>0.259278</td>\n",
       "      <td>2.7</td>\n",
       "      <td>0.215780</td>\n",
       "    </tr>\n",
       "    <tr>\n",
       "      <th>12</th>\n",
       "      <td>40.77</td>\n",
       "      <td>0.20385</td>\n",
       "      <td>101.60</td>\n",
       "      <td>0.50800</td>\n",
       "      <td>190.700</td>\n",
       "      <td>0.953500</td>\n",
       "      <td>0.5</td>\n",
       "      <td>0.200562</td>\n",
       "      <td>4.6</td>\n",
       "      <td>0.242990</td>\n",
       "      <td>2.4</td>\n",
       "      <td>0.212565</td>\n",
       "    </tr>\n",
       "  </tbody>\n",
       "</table>\n",
       "</div>"
      ],
      "text/plain": [
       "    Frequenz0  dFrequenz0  Frequenz1  dFrequenz1  Frequenz2  dFrequenz2  \\\n",
       "0       11.93     0.05965      27.53     0.13765      9.947    0.049735   \n",
       "1       45.16     0.22580      34.95     0.17475     16.280    0.081400   \n",
       "2       51.94     0.25970      39.78     0.19890     26.620    0.133100   \n",
       "3       54.44     0.27220      45.63     0.22815     38.490    0.192450   \n",
       "4       55.37     0.27685      50.99     0.25495     47.550    0.237750   \n",
       "5       57.18     0.28590      54.01     0.27005     58.010    0.290050   \n",
       "6       63.53     0.31765      55.80     0.27900     68.320    0.341600   \n",
       "7       82.21     0.41105      57.43     0.28715     84.750    0.423750   \n",
       "8       90.31     0.45155      62.00     0.31000    103.200    0.516000   \n",
       "9      105.30     0.52650      67.68     0.33840    117.900    0.589500   \n",
       "10     121.10     0.60550      74.68     0.37340    141.900    0.709500   \n",
       "11     146.20     0.73100      86.32     0.43160    170.000    0.850000   \n",
       "12      40.77     0.20385     101.60     0.50800    190.700    0.953500   \n",
       "\n",
       "    tdiff0   dtdiff0  tdiff1   dtdiff1  tdiff2   dtdiff2  \n",
       "0      0.0  0.200000     1.1  0.202704     2.0  0.208806  \n",
       "1      0.5  0.200562     1.2  0.203214     2.0  0.208806  \n",
       "2      2.0  0.208806     1.4  0.204362     3.0  0.219317  \n",
       "3      4.8  0.246447     2.0  0.208806     3.5  0.225887  \n",
       "4      5.8  0.265096     3.2  0.221847     3.9  0.231709  \n",
       "5      7.0  0.290000     4.5  0.241299     4.7  0.244706  \n",
       "6      7.3  0.296582     5.0  0.250000     4.7  0.244706  \n",
       "7      5.8  0.265096     5.5  0.259278     4.6  0.242990  \n",
       "8      5.5  0.259278     6.3  0.275174     4.0  0.233238  \n",
       "9      4.8  0.246447     6.2  0.273123     3.6  0.227297  \n",
       "10     4.1  0.234796     5.9  0.267075     3.1  0.220565  \n",
       "11     3.4  0.224508     5.5  0.259278     2.7  0.215780  \n",
       "12     0.5  0.200562     4.6  0.242990     2.4  0.212565  "
      ]
     },
     "execution_count": 66,
     "metadata": {},
     "output_type": "execute_result"
    }
   ],
   "source": [
    "pd.concat([frequenzen, tdiff], axis=1).reindex(frequenzen.index)\n",
    "\n"
   ]
  },
  {
   "cell_type": "code",
   "execution_count": 65,
   "metadata": {},
   "outputs": [],
   "source": [
    "frequenzen.to_csv('out.csv')"
   ]
  },
  {
   "cell_type": "markdown",
   "metadata": {},
   "source": [
    "# Phasenberechnung $ \\varphi = f \\cdot \\Delta t \\cdot 360^\\circ $"
   ]
  },
  {
   "cell_type": "code",
   "execution_count": 78,
   "metadata": {},
   "outputs": [
    {
     "name": "stdout",
     "output_type": "stream",
     "text": [
      "       phase0    dphase0     phase1   dphase1     phase2    dphase2\n",
      "0     0.00000   0.858960   10.90188  2.009700    7.16184   0.748575\n",
      "1     8.12880   3.260905   15.09840  2.557955   11.72160   1.225174\n",
      "2    37.39680   3.908815   20.04912  2.928350   28.74960   2.106670\n",
      "3    94.07232   4.852811   32.85360  3.433948   48.49740   3.139362\n",
      "4   115.61256   5.315740   58.74048  4.082886   66.76020   3.980414\n",
      "5   144.09360   6.012911   87.49620  4.712065   98.15292   5.133852\n",
      "6   166.95684   6.834247  100.44000  5.047048  115.59744   6.046281\n",
      "7   171.65448   7.892487  113.71140  5.390585  140.34600   7.446753\n",
      "8   178.81380   8.476819  140.61600  6.182005  148.60800   8.697060\n",
      "9   181.95840   9.386498  151.06176  6.697307  152.79840   9.677604\n",
      "10  178.74360  10.275093  158.62032  7.223924  158.36040  11.295139\n",
      "11  178.94880  11.850151  170.91360  8.102303  165.24000  13.231555\n",
      "12    7.33860   2.943913  168.24960  8.927317  164.76480  14.616267\n"
     ]
    }
   ],
   "source": [
    "phase0 = frequenz0  * tdiff0 *360 / 10**3 #faktor 1/10^3, da unterschiedliche einheiten\n",
    "phase1 = frequenz1  * tdiff1 *360 / 10**3\n",
    "phase2 = frequenz2  * tdiff2 *360 / 10**3\n",
    "\n",
    "dphase0 = np.sqrt(  (frequenz0 * 360 * dtdiff0/10**3) **2 + (tdiff0 *360* dfrequenz0/10**3)**2)\n",
    "dphase1 = np.sqrt(  (frequenz1 * 360 * dtdiff1/10**3) **2 + (tdiff1 *360* dfrequenz1/10**3)**2)\n",
    "dphase2 = np.sqrt(  (frequenz2 * 360 * dtdiff2/10**3) **2 + (tdiff2 *360* dfrequenz2/10**3)**2)\n",
    "\n",
    "Phasen = pd.DataFrame(data=[phase0,dphase0,phase1,dphase1,phase2,dphase2],\n",
    "                      index=['phase0','dphase0','phase1','dphase1','phase2','dphase2']).T\n",
    "print(Phasen)\n"
   ]
  },
  {
   "cell_type": "code",
   "execution_count": 130,
   "metadata": {},
   "outputs": [
    {
     "data": {
      "image/png": "[encoded data removed]",
      "text/plain": [
       "<Figure size 1080x576 with 1 Axes>"
      ]
     },
     "metadata": {
      "needs_background": "light"
     },
     "output_type": "display_data"
    }
   ],
   "source": [
    "plt.figure(figsize=(15,8))\n",
    "\n",
    "plt.errorbar(frequenz0, phase0,dphase0,dfrequenz0,'x', label = 'ohne Widerstand')\n",
    "plt.errorbar(frequenz1, phase1,dphase1, dfrequenz1, 'x', label = 'Widerstand 1')\n",
    "plt.errorbar(frequenz2, phase2,dphase2, dfrequenz2, 'x', label = 'Widerstand 2')\n",
    "plt.ylabel('Phase / Grad')\n",
    "plt.xlabel('Frequenz /kHz')\n",
    "plt.title('Auftragung der Phasenverschiebung als Funktion der Frequenz')\n",
    "plt.grid()\n",
    "plt.legend()\n",
    "plt.savefig('Phasenverschiebung1.png')"
   ]
  },
  {
   "cell_type": "code",
   "execution_count": 131,
   "metadata": {},
   "outputs": [
    {
     "data": {
      "image/png": "[encoded data removed]",
      "text/plain": [
       "<Figure size 1080x576 with 1 Axes>"
      ]
     },
     "metadata": {
      "needs_background": "light"
     },
     "output_type": "display_data"
    }
   ],
   "source": [
    "plt.figure(figsize=(15,8))\n",
    "\n",
    "plt.errorbar(frequenz0, phase0,dphase0,dfrequenz0,'x', label = 'ohne Widerstand')\n",
    "plt.errorbar(frequenz1, phase1,dphase1, dfrequenz1, 'x', label = 'Widerstand 1')\n",
    "plt.errorbar(frequenz2, phase2,dphase2, dfrequenz2, 'x', label = 'Widerstand 2')\n",
    "plt.ylabel('Phase / Grad')\n",
    "plt.xlabel('Frequenz /kHz')\n",
    "plt.title('Auftragung der Phasenverschiebung als Funktion der Frequenz (Vergrößert)')\n",
    "plt.grid()\n",
    "plt.legend()\n",
    "plt.xticks(np.linspace(30,70,21,endpoint='True'))\n",
    "plt.xlim(25,75)\n",
    "plt.savefig('Phasenverschiebung2.png')"
   ]
  },
  {
   "cell_type": "markdown",
   "metadata": {},
   "source": [
    "### Die Eigenfrequenz liegt (graphisch abgelesen) ca bei $(54 \\pm 1) kHz$"
   ]
  },
  {
   "cell_type": "code",
   "execution_count": 134,
   "metadata": {},
   "outputs": [
    {
     "name": "stdout",
     "output_type": "stream",
     "text": [
      "rechnerisch ergibt sich die Kapzität zu: 9.029790442359897e-09 \\pm 8.360917076259164e-11\n",
      "es ergibt sich ein t-Wert von: 0.5955141272872547\n"
     ]
    }
   ],
   "source": [
    "f0 = 54000\n",
    "df0 = 250\n",
    "\n",
    "L = 962 *10 **(-6)\n",
    "\n",
    "C = 1/(4 * np.pi**2 * L *f0**2)\n",
    "dC = df0 / ( 2* math.pi**2 *L *f0**3)\n",
    "\n",
    "\n",
    "print(r'rechnerisch ergibt sich die Kapzität zu: {} \\pm {}'.format(C,dC))\n",
    "print('es ergibt sich ein t-Wert von:',ap.TTest(C,8.98 * 10**(-9),dC))"
   ]
  },
  {
   "cell_type": "code",
   "execution_count": 135,
   "metadata": {},
   "outputs": [
    {
     "data": {
      "text/plain": [
       "0.5960000000000036"
      ]
     },
     "execution_count": 135,
     "metadata": {},
     "output_type": "execute_result"
    }
   ],
   "source": [
    "ap.TTest(54,54.149,0.25)"
   ]
  },
  {
   "cell_type": "code",
   "execution_count": null,
   "metadata": {},
   "outputs": [],
   "source": []
  }
 ],
 "metadata": {
  "kernelspec": {
   "display_name": "Python 3",
   "language": "python",
   "name": "python3"
  },
  "language_info": {
   "codemirror_mode": {
    "name": "ipython",
    "version": 3
   },
   "file_extension": ".py",
   "mimetype": "text/x-python",
   "name": "python",
   "nbconvert_exporter": "python",
   "pygments_lexer": "ipython3",
   "version": "3.7.1"
  }
 },
 "nbformat": 4,
 "nbformat_minor": 2
}
