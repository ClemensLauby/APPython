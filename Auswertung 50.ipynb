{
 "cells": [
  {
   "cell_type": "code",
   "execution_count": 72,
   "metadata": {},
   "outputs": [],
   "source": [
    "import math\n",
    "import numpy as np\n",
    "import matplotlib.pyplot as plt\n",
    "import AP1 as ap"
   ]
  },
  {
   "cell_type": "code",
   "execution_count": 73,
   "metadata": {},
   "outputs": [
    {
     "name": "stdout",
     "output_type": "stream",
     "text": [
      "[0.2664132128855474, 0.2772435752186153, 0.2374531532744933, 0.2418594633252956, 0.2512050954897213, 0.22184679398179277, 0.37735924528226417, 0.391019181115198, 0.3124099870362662]\n"
     ]
    }
   ],
   "source": [
    "DMM = np.array([2.2,2.4,1.6,1.7,1.9,1.2,4.0,4.2,3.0])\n",
    "dDMM = [math.sqrt((0.08*DMM[i])**2+0.2**2) for i in range(len(DMM))]\n",
    "print(dDMM)"
   ]
  },
  {
   "cell_type": "markdown",
   "metadata": {},
   "source": [
    "## Versuchsteil 1"
   ]
  },
  {
   "cell_type": "code",
   "execution_count": 77,
   "metadata": {},
   "outputs": [],
   "source": [
    "divU = np.array([8.0,8.0,8.0,8.0,8.0,8.0,4.2,4.2,4.2])/2\n",
    "Vdiv = np.array([1,1,1,1,1,1,2,2,2])\n",
    "\n",
    "divt = np.array([4.9,3.9,4.9,4.9,3.9,4.9,5,3.9,4.9])\n",
    "Tdiv = np.array([0.1, 0.5, 0.02, 0.1, 0.5, 0.02, 0.1, 0.5, 0.02])\n",
    "\n",
    "ddiv = 0.1\n",
    "\n",
    "\n",
    "\n"
   ]
  },
  {
   "cell_type": "code",
   "execution_count": 78,
   "metadata": {},
   "outputs": [
    {
     "name": "stdout",
     "output_type": "stream",
     "text": [
      "[4.90e-04 1.95e-03 9.80e-05 4.90e-04 1.95e-03 9.80e-05 5.00e-04 1.95e-03\n",
      " 9.80e-05]\n",
      "[ 2040.81632653   512.82051282 10204.08163265  2040.81632653\n",
      "   512.82051282 10204.08163265  2000.           512.82051282\n",
      " 10204.08163265]\n",
      "[2.82842712 2.82842712 2.82842712]\n",
      "[2.30940108 2.30940108 2.30940108]\n",
      "[4.2 4.2 4.2]\n"
     ]
    }
   ],
   "source": [
    "u0 = divU * Vdiv\n",
    "t0 = divt * Tdiv / 1000\n",
    "f0 = 1 / t0\n",
    "print(t0)\n",
    "print(f0)\n",
    "ueffsinus = u0[:3] / math.sqrt(2)\n",
    "ueffdreieck = u0[3:6] /math.sqrt(3)\n",
    "ueffrechteck = u0[6:] \n",
    "print(ueffsinus)\n",
    "print(ueffdreieck)\n",
    "print(ueffrechteck)\n"
   ]
  },
  {
   "cell_type": "code",
   "execution_count": 79,
   "metadata": {},
   "outputs": [
    {
     "name": "stdout",
     "output_type": "stream",
     "text": [
      "[0.1562049935181331, 0.1562049935181331, 0.1562049935181331, 0.1562049935181331, 0.1562049935181331, 0.1562049935181331, 0.2363810483097154, 0.2363810483097154, 0.2363810483097154]\n",
      "--------------------------\n",
      "[ 2040.81632653   512.82051282 10204.08163265  2040.81632653\n",
      "   512.82051282 10204.08163265  2000.           512.82051282\n",
      " 10204.08163265]\n",
      "[ 81.63265306  20.51282051 408.16326531  81.63265306  20.51282051\n",
      " 408.16326531  80.          20.51282051 408.16326531]\n"
     ]
    }
   ],
   "source": [
    "du0 = [math.sqrt((0.1 * Vdiv[i])**2 + (0.03 * u0[i])**2)for i in range(len(Vdiv))]\n",
    "print(du0)\n",
    "#dt0 = [math.sqrt((0.1 * Tdiv[i])**2 + (0.03 * t0[i])**2) for i in range(len(Vdiv))]\n",
    "##print(dt0)\n",
    "#df0 = (1/((t0)**2)) * dt0\n",
    "df0 = 0.04 * f0\n",
    "print('--------------------------')\n",
    "print(f0)\n",
    "print(df0)\n"
   ]
  },
  {
   "cell_type": "markdown",
   "metadata": {},
   "source": [
    "## Versuchsteil 2"
   ]
  },
  {
   "cell_type": "markdown",
   "metadata": {},
   "source": [
    "### Ohmscher Widerstand"
   ]
  },
  {
   "cell_type": "code",
   "execution_count": 135,
   "metadata": {},
   "outputs": [
    {
     "name": "stdout",
     "output_type": "stream",
     "text": [
      "[3.1 3.1 3.1] [0.124 0.124 0.124]\n",
      "0.3048671841966597\n",
      "0.19206509313251066\n"
     ]
    },
    {
     "data": {
      "text/plain": [
       "(array([0.115, 0.115, 0.115]), array([0.0046, 0.0046, 0.0046]))"
      ]
     },
     "execution_count": 135,
     "metadata": {},
     "output_type": "execute_result"
    }
   ],
   "source": [
    "spannungr0 = np.array([6.2, 6.2, 6.2])/2\n",
    "dspannungr0 = 0.04* spannungr0\n",
    "spannungm0 = np.array([4.6*0.05, 4.6*0.05, 4.6*0.05])/2\n",
    "dspannungm0 = 0.04* spannungm0\n",
    "rm = 10.008 #Widerstand des Widerstandes\n",
    "print(spannungr0, dspannungr0)\n",
    "print(math.sqrt((3.6 * 0.08)**2 + 0.1**2))\n",
    "print(math.sqrt((2.4 * 0.08)**2 + 0.005**2))\n",
    "spannungm0 ,dspannungm0"
   ]
  },
  {
   "cell_type": "markdown",
   "metadata": {},
   "source": [
    "$ I = \\frac{U_m}{R_m}$"
   ]
  },
  {
   "cell_type": "code",
   "execution_count": 136,
   "metadata": {},
   "outputs": [
    {
     "name": "stdout",
     "output_type": "stream",
     "text": [
      "[0.01149081 0.01149081 0.01149081] [0.00045963 0.00045963 0.00045963]\n"
     ]
    }
   ],
   "source": [
    "iwiderstand = spannungm0 / rm\n",
    "diwiderstand = 1/rm * dspannungm0\n",
    "print(iwiderstand, diwiderstand)"
   ]
  },
  {
   "cell_type": "markdown",
   "metadata": {},
   "source": [
    "$ R_x = \\frac{U_0}{I}$                 $ dR_x = \\sqrt{ (\\frac{1}{I} dU_0)^2 + (\\frac{U_0}{I^2} dI)^2}$"
   ]
  },
  {
   "cell_type": "code",
   "execution_count": 19,
   "metadata": {},
   "outputs": [
    {
     "name": "stdout",
     "output_type": "stream",
     "text": [
      "[269.78086957 269.78086957 269.78086957] [15.261110584317496, 15.261110584317496, 15.261110584317496]\n"
     ]
    }
   ],
   "source": [
    "rwiderstand = spannungr0 / iwiderstand\n",
    "Klammer1 = dspannungr0 / iwiderstand \n",
    "Klammer2 = spannungr0  * diwiderstand / iwiderstand**2\n",
    "drwiderstand = [math.sqrt(Klammer1[i]**2 + Klammer2[i]**2) for i in range(3)]\n",
    "print(rwiderstand,drwiderstand)"
   ]
  },
  {
   "cell_type": "code",
   "execution_count": 138,
   "metadata": {},
   "outputs": [
    {
     "name": "stdout",
     "output_type": "stream",
     "text": [
      "[ 6411.41357875 19039.9554763  64114.13578755]\n",
      "[269.78086957 269.78086957 269.78086957]\n",
      "[15.261110584317496, 15.261110584317496, 15.261110584317496]\n",
      "269.7808695652174\n",
      "[ 6411.41357875 19039.9554763  64114.13578755] [ 40.81632653 121.21212121 408.16326531]\n",
      "[269.78086957 269.78086957 269.78086957] [15.261110584317496, 15.261110584317496, 15.261110584317496]\n"
     ]
    }
   ],
   "source": [
    "tr = np.array([4.9 *0.2, 3.3 * 0.1,4.9*0.02])/1000\n",
    "dtr = 0.04 * tr\n",
    "\n",
    "omegar = 2* math.pi / tr\n",
    "domegar = dtr / tr**2\n",
    "\n",
    "print(omegar)\n",
    "print(rwiderstand)\n",
    "print(drwiderstand)\n",
    "print(ap.GewichteterMittelwert(rwiderstand,drwiderstand))\n",
    "ap.Mittelwertfehler(drwiderstand)\n",
    "print(omegar, domegar)\n",
    "print(rwiderstand, drwiderstand)"
   ]
  },
  {
   "cell_type": "markdown",
   "metadata": {},
   "source": [
    "## Widerstand Kondensator"
   ]
  },
  {
   "cell_type": "code",
   "execution_count": 114,
   "metadata": {},
   "outputs": [
    {
     "name": "stdout",
     "output_type": "stream",
     "text": [
      "[0.18194504664870656, 0.18194504664870656, 0.16880758276807356]\n",
      "[0.00314748 0.00949241 0.02797762]\n",
      "[ 1020.40816327  3030.3030303  10204.08163265]\n",
      "[0.0315 0.095  0.28  ] [0.01007907 0.01069766 0.01501466]\n"
     ]
    }
   ],
   "source": [
    "spannungc1 = np.array([7.6,7.6,6.8])/2\n",
    "\n",
    "dspannungc1 = [math.sqrt((0.04* spannungc1[i])**2 + 0.1**2)for i in range(3)]\n",
    "\n",
    "print(dspannungc1)\n",
    "\n",
    "\n",
    "spannungm1 = np.array([6.3*0.01,3.8*0.05,5.6*0.1])/2\n",
    "dspannungm1 = np.array([math.sqrt((0.04* spannungm1[i])**2 + 0.01**2)for i in range(3)])\n",
    "tc = np.array([4.9*0.2,3.3 *0.1,4.9*0.02])/1000\n",
    "dtc = 0.04 * tc\n",
    "\n",
    "print(ikondensator)\n",
    "print(1/tc)\n",
    "print(spannungm1 , dspannungm1)"
   ]
  },
  {
   "cell_type": "code",
   "execution_count": 115,
   "metadata": {},
   "outputs": [
    {
     "name": "stdout",
     "output_type": "stream",
     "text": [
      "[1207.31428571  400.32        121.52571429]\n",
      "------------\n",
      "[0.00314748 0.00949241 0.02797762] [0.0010071  0.00106891 0.00150027]\n"
     ]
    }
   ],
   "source": [
    "ikondensator = np.array([spannungm1[i] / rm for i in range(3)])\n",
    "dikondensator = np.array([dspannungm1[i] / rm for i in range(3)])\n",
    "print(spannungc1/ikondensator)\n",
    "print('------------')\n",
    "print(ikondensator, dikondensator)"
   ]
  },
  {
   "cell_type": "markdown",
   "metadata": {},
   "source": [
    "$ R_x = \\frac{U_0}{I}$                 $ dR_x = \\sqrt{ (\\frac{1}{I} dU_0)^2 + (\\frac{U_0}{I^2} dI)^2}$"
   ]
  },
  {
   "cell_type": "code",
   "execution_count": 116,
   "metadata": {},
   "outputs": [
    {
     "name": "stdout",
     "output_type": "stream",
     "text": [
      "[1207.31428571  400.32        121.52571429] [390.6059602743612, 48.98460057335335, 8.880995855311356]\n"
     ]
    }
   ],
   "source": [
    "cwiderstand = spannungc1 / ikondensator\n",
    "Klammer11 = dspannungc1 / ikondensator\n",
    "Klammer21 = spannungc1 * dikondensator / ikondensator**2\n",
    "dcwiderstand = [math.sqrt(Klammer11[i]**2 + Klammer21[i]**2) for i in range(3)]\n",
    "print(cwiderstand, dcwiderstand)\n"
   ]
  },
  {
   "cell_type": "code",
   "execution_count": 117,
   "metadata": {},
   "outputs": [
    {
     "name": "stdout",
     "output_type": "stream",
     "text": [
      "[ 6411.41357875 19039.9554763  64114.13578755] [ 256.45654315  761.59821905 2564.5654315 ]\n"
     ]
    }
   ],
   "source": [
    "omegac= 2* math.pi / tc\n",
    "domegac = 2*math.pi *dtc / tc**2\n",
    "print(omegac, domegac)"
   ]
  },
  {
   "cell_type": "markdown",
   "metadata": {},
   "source": [
    "# Berechnung der Phasenverschiebung $\\phi = \\omega \\delta_t$"
   ]
  },
  {
   "cell_type": "code",
   "execution_count": 124,
   "metadata": {},
   "outputs": [
    {
     "name": "stdout",
     "output_type": "stream",
     "text": [
      "[1.53873926 1.52319644 1.53873926] [0.08704424 0.086165   0.08704424]\n",
      "[[88.16326531 87.27272727 88.16326531]] [4.98726742 4.93689098 4.98726742]\n"
     ]
    }
   ],
   "source": [
    "delt = np.array([1.2 *0.2,0.8*0.1,1.2*0.02])/1000\n",
    "ddelt = 0.04 * delt\n",
    "phi = delt * omegac\n",
    "dphi = np.array([math.sqrt((omegac[i]*ddelt[i])**2+(delt[i]*domegac[i])**2) for i in range(3)])\n",
    "alpha = np.array([360 * phi / (2* math.pi)])\n",
    "dalpha = np.array(360 * dphi / (2* math.pi))\n",
    "print(phi, dphi)\n",
    "print(alpha,360 * dphi / (2* math.pi))"
   ]
  },
  {
   "cell_type": "markdown",
   "metadata": {},
   "source": [
    "## Kondensatorkapazität"
   ]
  },
  {
   "cell_type": "code",
   "execution_count": 125,
   "metadata": {},
   "outputs": [
    {
     "name": "stdout",
     "output_type": "stream",
     "text": [
      "[1.29189099e-07 1.31197870e-07 1.28344725e-07] [4.211516541565625e-08, 1.6889835706197727e-08, 1.069240369618411e-08]\n",
      "1.2916227046553966e-07 8.8332836700215e-09\n"
     ]
    }
   ],
   "source": [
    "Kapazi = 1/(omegac *  cwiderstand)\n",
    "Klammer13 = dcwiderstand/(cwiderstand**2 *omegac)\n",
    "Klammer23 = domegac / (cwiderstand * omegac**2)\n",
    "dKapazi = [math.sqrt(Klammer13[i]**2 + Klammer23[i]**2)for i in range(3)]\n",
    "print(Kapazi,dKapazi)\n",
    "print(ap.GewichteterMittelwert(Kapazi,dKapazi),ap.Mittelwertfehler(dKapazi))"
   ]
  },
  {
   "cell_type": "markdown",
   "metadata": {},
   "source": [
    "# Widerstand Spule "
   ]
  },
  {
   "cell_type": "code",
   "execution_count": 126,
   "metadata": {},
   "outputs": [
    {
     "name": "stdout",
     "output_type": "stream",
     "text": [
      "[2.15 3.1  3.75] [0.043 0.062 0.075]\n"
     ]
    }
   ],
   "source": [
    "spannungl2 = np.array([4.3,6.2,7.5])/2\n",
    "dspannungl2 = 0.04 * spannungl2/2\n",
    "spannungm2 = np.array([6.3*0.1, 4.4*0.1, 3.4 * 0.05])/2\n",
    "dspannungm2 = 0.04 * spannungm2/2\n",
    "\n",
    "tl = np.array([4.9*0.2,6.5*0.05,1.9*0.05])/1000\n",
    "dtl = tl *0.04\n",
    "print(spannungl2, dspannungl2)"
   ]
  },
  {
   "cell_type": "code",
   "execution_count": 128,
   "metadata": {},
   "outputs": [
    {
     "name": "stdout",
     "output_type": "stream",
     "text": [
      "[0.03147482 0.02198241 0.00849321] [0.0006295  0.00043965 0.00016986]\n"
     ]
    }
   ],
   "source": [
    "ispule = spannungm2 / rm\n",
    "dispule = dspannungm2/rm\n",
    "print(ispule,dispule)"
   ]
  },
  {
   "cell_type": "code",
   "execution_count": 32,
   "metadata": {},
   "outputs": [
    {
     "name": "stdout",
     "output_type": "stream",
     "text": [
      "[ 68.30857143 141.02181818 441.52941176] [1.9320581628123397, 3.988699357264799, 12.488337646085235]\n"
     ]
    }
   ],
   "source": [
    "widerstandspule = spannungl2 / ispule\n",
    "Klammer14 = dspannungl2 / ispule\n",
    "Klammer24 = (spannungl2 *dispule) / ispule**2\n",
    "dwiderstandspule = [math.sqrt(Klammer14[i]**2 + Klammer24[i]**2) for i in range(3)]\n",
    "print(widerstandspule, dwiderstandspule)"
   ]
  },
  {
   "cell_type": "code",
   "execution_count": 127,
   "metadata": {},
   "outputs": [
    {
     "name": "stdout",
     "output_type": "stream",
     "text": [
      "[44.08163265 66.46153846 90.94736842] [2.493633709980314, 3.7596323627395507, 5.144760075327808]\n",
      "[ 6411.41357875 19332.87786824 66138.79270715] [ 256.45654315  773.31511473 2645.55170829]\n"
     ]
    }
   ],
   "source": [
    "deltl = np.array([1.2*0.1,1.2*0.05,1.2*0.02])/1000\n",
    "ddeltl = 0.04 *deltl\n",
    "\n",
    "omegal= 2* math.pi / tl\n",
    "domegal = 2*math.pi *dtl / tl**2\n",
    "\n",
    "phil = deltl * omegal\n",
    "dphil = [math.sqrt((omegal[i]*ddeltl[i])**2+(deltl[i]*domegal[i])**2) for i in range(3)]\n",
    "\n",
    "alpha2 = 360 * phil / (2* math.pi)\n",
    "dalpha2 = [(360 * dphil[i]) / (2* math.pi)for i in range(3)]\n",
    "\n",
    "print(alpha2, dalpha2)\n",
    "\n",
    "print(omegal,domegal)"
   ]
  },
  {
   "cell_type": "markdown",
   "metadata": {},
   "source": [
    "# Induktivität $L = \\frac{Z}{\\sqrt{\\omega ^2 + (\\frac{\\omega}{\\tan (\\phi)})^2}}$"
   ]
  },
  {
   "cell_type": "code",
   "execution_count": 34,
   "metadata": {},
   "outputs": [
    {
     "name": "stdout",
     "output_type": "stream",
     "text": [
      "[0.007411950674493728, 0.006687452492047542, 0.006674888349612865]\n"
     ]
    }
   ],
   "source": [
    "induktivität = [widerstandspule[i] / math.sqrt(omegal[i]**2 + (omegal[i]/math.tan(phil[i]))**2) for i in range(3)]\n",
    "print(induktivität)"
   ]
  },
  {
   "cell_type": "code",
   "execution_count": null,
   "metadata": {},
   "outputs": [],
   "source": []
  },
  {
   "cell_type": "markdown",
   "metadata": {},
   "source": [
    "# Widerstand spule im wechselstromkreis"
   ]
  },
  {
   "cell_type": "code",
   "execution_count": 130,
   "metadata": {},
   "outputs": [
    {
     "name": "stdout",
     "output_type": "stream",
     "text": [
      "[49.06941789181849, 56.319119691859065, 7.300222906837549] [49.069417891818496, 56.31911969185906, -7.300222906840381]\n",
      "[0.00741195 0.00668745 0.00667489]\n",
      "[49.06941789181849, 56.319119691859065, 7.300222906837549] [2.49073733156166, 8.631852110492444, 39.641369904806794]\n"
     ]
    }
   ],
   "source": [
    "echterwiderstandspule = [math.sqrt(widerstandspule[i]**2-(omegal[i]*induktivität[i])**2) for i in range(3)]\n",
    "echterwiderstandspule2 = [widerstandspule[i] * math.cos(phil[i]) for i in range(3)]\n",
    "print(echterwiderstandspule, echterwiderstandspule2)\n",
    "L= np.array([(widerstandspule[i]* math.sin(phil[i]) )/omegal[i] for i in range(3)])\n",
    "print(L)\n",
    "Klammer16 = [dwiderstandspule[i] * math.cos(phil[i]) for i in range(3)]\n",
    "Klammer27 = [math.sin(phil[i]) * widerstandspule[i] * dphil[i] for i in range(3)]\n",
    "dechterwiderstandspule2 = [math.sqrt(Klammer16[i]**2+Klammer27[i]**2)for i in range(3)]\n",
    "print(echterwiderstandspule,dechterwiderstandspule2)"
   ]
  },
  {
   "cell_type": "code",
   "execution_count": 60,
   "metadata": {},
   "outputs": [
    {
     "name": "stdout",
     "output_type": "stream",
     "text": [
      "[0.00741195 0.00668745 0.00667489] [0.00766206 0.00293149 0.00034513]\n",
      "0.0003424179119194418\n",
      "0.006676531835692034\n"
     ]
    }
   ],
   "source": [
    "Klammer17 = [math.sin(phil[i])*dwiderstandspule[i] / omegal[i] for i in range(3)]\n",
    "Klammer27 = [math.cos(phil[i]) *widerstandspule[i] / omegal[i] for i in range(3)]\n",
    "Klammer37 = [math.sin(phil[i])*widerstandspule[i]*domegal[i]/omegal[i]**2 for i in range(3)]\n",
    "dL = np.array([math.sqrt(Klammer17[i]**2 + Klammer27[i]**2 + Klammer37[i]**2) for i in range(3)])\n",
    "print(L,dL)\n",
    "print(ap.Mittelwertfehler(dL))\n",
    "print(ap.GewichteterMittelwert(L,dL))\n"
   ]
  },
  {
   "cell_type": "markdown",
   "metadata": {},
   "source": [
    "## Grafische Auftragung der Werte "
   ]
  },
  {
   "cell_type": "code",
   "execution_count": 63,
   "metadata": {},
   "outputs": [
    {
     "data": {
      "image/png": "[encoded data removed]",
      "text/plain": [
       "<Figure size 720x360 with 1 Axes>"
      ]
     },
     "metadata": {
      "needs_background": "light"
     },
     "output_type": "display_data"
    }
   ],
   "source": [
    "plt.figure(figsize=(10,5))\n",
    "plt.title(r\"Doppelllogarithmische Auftragung der Impedanz gegenüber der Frequenz\", fontsize=15)\n",
    "plt.ylabel('Impendanz der Bauteile [V/A]')\n",
    "plt.xlabel('Frequenz [Hz]')\n",
    "plt.yscale('log')\n",
    "plt.xscale('log')\n",
    "plt.grid()\n",
    "plt.plot(1/tr, rwiderstand,'x', label='Widerstand')\n",
    "plt.plot(1/tc, cwiderstand, 'x', label='Kondensator')\n",
    "plt.plot(1/tl, widerstandspule ,'x', label= 'Spule')\n",
    "plt.legend()\n",
    "plt.savefig('graph1.png')"
   ]
  },
  {
   "cell_type": "code",
   "execution_count": 64,
   "metadata": {},
   "outputs": [
    {
     "data": {
      "image/png": "[encoded data removed]",
      "text/plain": [
       "<Figure size 720x360 with 1 Axes>"
      ]
     },
     "metadata": {
      "needs_background": "light"
     },
     "output_type": "display_data"
    }
   ],
   "source": [
    "plt.figure(figsize=(10,5))\n",
    "plt.title(r\"Verlauf der Phase in lin-log-Darsetllung ueber der Frequenz\", fontsize=15)\n",
    "plt.ylabel('Phasenverschiebung [grad]')\n",
    "plt.xlabel('Frequenz [Hz]')\n",
    "plt.xscale('log')\n",
    "plt.grid()\n",
    "plt.plot(1/tr, [0,0,0],'x', label='Widerstand')\n",
    "plt.plot(1/tc, alpha, 'x', label='Kondensator')\n",
    "plt.plot(1/tl, -alpha2 ,'x', label= 'Spule')\n",
    "plt.legend()\n",
    "plt.savefig('graph2.png')"
   ]
  },
  {
   "cell_type": "code",
   "execution_count": null,
   "metadata": {},
   "outputs": [],
   "source": []
  }
 ],
 "metadata": {
  "kernelspec": {
   "display_name": "Python 3",
   "language": "python",
   "name": "python3"
  },
  "language_info": {
   "codemirror_mode": {
    "name": "ipython",
    "version": 3
   },
   "file_extension": ".py",
   "mimetype": "text/x-python",
   "name": "python",
   "nbconvert_exporter": "python",
   "pygments_lexer": "ipython3",
   "version": "3.7.1"
  }
 },
 "nbformat": 4,
 "nbformat_minor": 2
}
